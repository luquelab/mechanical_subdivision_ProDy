{
 "cells": [
  {
   "cell_type": "code",
   "execution_count": 1,
   "id": "aa05b179-a9d6-420b-8e50-357a9422ed49",
   "metadata": {},
   "outputs": [],
   "source": [
    "import pythran\n",
    "import numpy as np\n",
    "import numba as nb\n",
    "%load_ext pythran.magic"
   ]
  },
  {
   "cell_type": "code",
   "execution_count": 2,
   "id": "ba441821-1554-4448-ad09-4fc6b572e0a2",
   "metadata": {
    "tags": []
   },
   "outputs": [
    {
     "name": "stderr",
     "output_type": "stream",
     "text": [
      "C:\\Users\\colin\\miniconda3\\envs\\odep\\lib\\site-packages\\setuptools\\_distutils\\_msvccompiler.py:535: UserWarning: Fallback spawn triggered. Please update distutils monkeypatch.\n",
      "  warnings.warn(\n"
     ]
    }
   ],
   "source": [
    "%%pythran -fopenmp -DUSE_BOOST_SIMD -march=native\n",
    "import numpy as np\n",
    "#pythran export pairDistsP(float, float[:,:], float[:,:])\n",
    "def pairDistsP(sqFluct, evi, evj):\n",
    "    #n_e = evals.shape[0]\n",
    "    #cij = 0\n",
    "    # for n in range(n_e):\n",
    "    #     l = evals[n]\n",
    "    #     cij += 1 / l * np.dot(evi[:,n], evj[:,n])\n",
    "    cij = np.sum(evi*evj)\n",
    "    d = sqFluct - 2*cij\n",
    "    return d\n",
    "\n",
    "#pythran export clusterFluctsP( float[:,:,:], float[:])\n",
    "def clusterFluctsP(evecs, sqFlucts):\n",
    "    c_size = evecs.shape[0]\n",
    "    flucts = np.zeros(c_size)\n",
    "    for i in range(c_size):\n",
    "        evi = evecs[i,:,:]\n",
    "        for j in range(c_size):\n",
    "            if i==j:\n",
    "                continue\n",
    "            evj = evecs[j,:,:]\n",
    "            sqFluct = sqFlucts[i] + sqFlucts[j]\n",
    "            flucts[i] += np.sqrt(pairDistsP(sqFluct, evi, evj))\n",
    "    print(flucts)\n",
    "    return flucts/(2*c_size)\n",
    "\n",
    "#pythran export fastFlucts(float[:], float[:,:], int)\n",
    "def fastFlucts(evals, evecs, n_modes):\n",
    "    n_atoms = evecs.shape[0]\n",
    "    flucts = np.zeros(n_atoms)\n",
    "    for i in range(n_modes):\n",
    "        flucts += 1/evals[i]*evecs[:,i]**2\n",
    "    return flucts\n"
   ]
  },
  {
   "cell_type": "code",
   "execution_count": 3,
   "id": "6439ee96-8400-44dc-b7ce-5e8fa0fe69fc",
   "metadata": {
    "jupyter": {
     "source_hidden": true
    },
    "tags": []
   },
   "outputs": [],
   "source": [
    "@nb.njit()\n",
    "def tosqfluct(vec):\n",
    "    return np.reshape(vec, (-1,3)).sum(axis=-1)\n",
    "\n",
    "def loopFluctsP(evals, evecs, labels, sqFlucts):\n",
    "    n_clusters = np.max(labels)+1\n",
    "    fullRigidities = np.zeros_like(sqFlucts)\n",
    "    rigidities = np.zeros_like(sqFlucts)\n",
    "    mobilities = np.zeros_like(sqFlucts)\n",
    "    n_evals = evals.shape[0]\n",
    "    evecs = evecs*1/np.sqrt(evals)\n",
    "    evecs = evecs.reshape(-1,3,n_evals)\n",
    "    for i in range(n_clusters):\n",
    "        mask = (labels == i)\n",
    "        if not np.any(mask):\n",
    "            print('Some clusters unassigned')\n",
    "            rigidities[i] += 0\n",
    "        else:\n",
    "            cVecs = evecs[mask, :].copy()\n",
    "            cFlucts = sqFlucts[mask].copy()\n",
    "            flucts = clusterFluctsP(cVecs, cFlucts)\n",
    "            totalFlucts = flucts.mean()\n",
    "            mobility = np.mean(np.sqrt(cFlucts))\n",
    "            rigidities[mask] = totalFlucts\n",
    "            fullRigidities[mask] = flucts\n",
    "            mobilities[mask] = mobility\n",
    "    return rigidities, fullRigidities, mobilities\n",
    "\n",
    "\n",
    "\n",
    "def realFlucts(nc, pdb):\n",
    "    #from input import pdb\n",
    "    from make_model import getPDB\n",
    "    capsid, calphas, title = getPDB(pdb)\n",
    "    \n",
    "    nModes = 120\n",
    "\n",
    "\n",
    "    modes = np.load('../results/models/' + pdb + 'anmmodes' + '.npz')\n",
    "    print(list(modes.keys()))\n",
    "    evals = modes['evals'][:nModes].copy()\n",
    "    evecs = modes['evecs'][:,:nModes].copy()\n",
    "    print(evecs.shape)\n",
    "    results = np.load('../results/subdivisions/' + pdb + '/' + pdb + '_' + str(nc) + '_results.npz')\n",
    "    labels = results['labels']\n",
    "    \n",
    "    sqFlucts = fastFlucts(evals, evecs, nModes)\n",
    "    sqFlucts = tosqfluct(sqFlucts)\n",
    "    \n",
    "    rigidities, fullRigidities, mobility = loopFluctsP(evals,evecs.copy(),labels,sqFlucts)\n",
    "\n",
    "\n",
    "    from prody import loadAtoms, writePDB, extendModel, extendAtomicData, ANM, showProtein\n",
    "    print(rigidities)\n",
    "    calphas = capsid.select('calpha')\n",
    "    calphas.setBetas(fullRigidities)\n",
    "    print(mobility)\n",
    "    writePDB('../results/subdivisions/' + pdb + '/' + pdb + '_' + str(nc) + '_rigidtest.pdb', calphas, beta=mobility,\n",
    "             hybrid36=True)\n",
    "    return rigidities, fullRigidities, mobility, calphas"
   ]
  },
  {
   "cell_type": "code",
   "execution_count": 4,
   "id": "60f9cd28-3e55-448d-a7e8-46ecd60cce57",
   "metadata": {
    "tags": []
   },
   "outputs": [
    {
     "name": "stderr",
     "output_type": "stream",
     "text": [
      "@> 5488 atoms and 1 coordinate set(s) were parsed in 0.04s.\n"
     ]
    },
    {
     "name": "stdout",
     "output_type": "stream",
     "text": [
      "5488 atoms and 1 coordinate set(s) were parsed in 0.04s.\n"
     ]
    },
    {
     "name": "stderr",
     "output_type": "stream",
     "text": [
      "@> Biomolecular transformations were applied to the coordinate data.\n"
     ]
    },
    {
     "name": "stdout",
     "output_type": "stream",
     "text": [
      "Biomolecular transformations were applied to the coordinate data.\n",
      "Number Of Residues:  42000\n",
      "['evals', 'evecs']\n",
      "(126000, 120)\n",
      "[0.1321394  0.1321394  0.1321394  ... 0.12173674 0.12173674 0.12173674]\n",
      "[0.27529301 0.27529301 0.27529301 ... 0.2673653  0.2673653  0.2673653 ]\n"
     ]
    }
   ],
   "source": [
    "pdb = '2e0z'\n",
    "nc = 32\n",
    "rigidities, fullRigidities, mobility, calphas = realFlucts(nc, pdb)"
   ]
  },
  {
   "cell_type": "code",
   "execution_count": 5,
   "id": "9112ff6f-8a88-4dd8-af6e-acd1e6e9c260",
   "metadata": {},
   "outputs": [
    {
     "name": "stderr",
     "output_type": "stream",
     "text": [
      "@> 5488 atoms and 1 coordinate set(s) were parsed in 0.04s.\n"
     ]
    },
    {
     "name": "stdout",
     "output_type": "stream",
     "text": [
      "5488 atoms and 1 coordinate set(s) were parsed in 0.04s.\n"
     ]
    },
    {
     "name": "stderr",
     "output_type": "stream",
     "text": [
      "@> Biomolecular transformations were applied to the coordinate data.\n"
     ]
    },
    {
     "name": "stdout",
     "output_type": "stream",
     "text": [
      "Biomolecular transformations were applied to the coordinate data.\n",
      "Number Of Residues:  42000\n"
     ]
    },
    {
     "data": {
      "text/plain": [
       "'../results/subdivisions/2e0z/2e0z_32_rigidtest.pdb'"
      ]
     },
     "execution_count": 5,
     "metadata": {},
     "output_type": "execute_result"
    }
   ],
   "source": [
    "from make_model import getPDB\n",
    "from prody import writePDB\n",
    "capsid, calphas, title = getPDB(pdb)\n",
    "data = np.load('../results/subdivisions/' + pdb + '_sqFlucts.npz')\n",
    "sqFlucts = data['sqFlucts']\n",
    "k = data['k']\n",
    "sqFlucts = sqFlucts/k\n",
    "calphas.setBetas(fullRigidities)\n",
    "writePDB('../results/subdivisions/' + pdb + '/' + pdb + '_' + str(nc) + '_rigidtest.pdb', calphas, beta=fullRigidities,\n",
    "             hybrid36=True)"
   ]
  },
  {
   "cell_type": "code",
   "execution_count": 6,
   "id": "b95ca311-6e1f-4b3c-ac3d-b2a280040e3c",
   "metadata": {
    "tags": []
   },
   "outputs": [
    {
     "name": "stderr",
     "output_type": "stream",
     "text": [
      "C:\\Users\\colin\\miniconda3\\envs\\odep\\lib\\site-packages\\setuptools\\_distutils\\_msvccompiler.py:535: UserWarning: Fallback spawn triggered. Please update distutils monkeypatch.\n",
      "  warnings.warn(\n"
     ]
    }
   ],
   "source": [
    "%%pythran -fopenmp -DUSE_BOOST_SIMD -march=native\n",
    "import numpy as np\n",
    "#pythran export pairDistsG(float[:], float[:], float)\n",
    "def pairDistsG(evi, evj, sq):\n",
    "    cij = np.sum(evi*evj)\n",
    "    d = sq - 2*cij\n",
    "    return d\n",
    "\n",
    "#pythran export clusterFluctsG(float[:,:], float[:])\n",
    "def clusterFluctsG(evecs, cFlucts):\n",
    "    c_size = evecs.shape[0]\n",
    "    flucts = np.zeros(c_size)\n",
    "    for i in range(c_size):\n",
    "\n",
    "        for j in range(c_size):\n",
    "            if i==j:\n",
    "                continue\n",
    "            evi = evecs[i,:]\n",
    "            evj = evecs[j,:]\n",
    "            sq = cFlucts[i] + cFlucts[j]\n",
    "            flucts[i] += np.sqrt(pairDistsG(evi, evj, sq))\n",
    "    return flucts/(2*c_size)\n",
    "\n",
    "#pythran export fastFluctsG(float[:,:])\n",
    "def fastFluctsG(evecs):\n",
    "    return np.sum(evecs**2,axis=1)\n",
    "\n",
    "\n"
   ]
  },
  {
   "cell_type": "code",
   "execution_count": 17,
   "id": "2dab393a-4deb-4f19-84ee-c7046f0b149a",
   "metadata": {
    "tags": []
   },
   "outputs": [],
   "source": [
    "def loopFluctsG(evals, evecs, labels):\n",
    "    n_clusters = np.max(labels)+1\n",
    "    natoms = evecs.shape[0]\n",
    "    fullRigidities = np.zeros(natoms)\n",
    "    evecs = evecs*1/np.sqrt(evals)\n",
    "    rigidities = np.zeros_like(fullRigidities)\n",
    "    mobilities = np.zeros_like(fullRigidities)\n",
    "    n_evals = evals.shape[0]\n",
    "    sqFlucts = fastFluctsG(evecs)\n",
    "    for i in range(n_clusters):\n",
    "        mask = (labels == i)\n",
    "        if not np.any(mask):\n",
    "            print('Some clusters unassigned')\n",
    "            rigidities[i] += 0\n",
    "        else:\n",
    "            cVecs = evecs[mask, :].copy()\n",
    "            cFlucts = sqFlucts[mask].copy()\n",
    "            flucts = clusterFluctsG(cVecs, cFlucts)\n",
    "            totalFlucts = flucts.mean()\n",
    "            mobility = np.mean(np.sqrt(cFlucts))\n",
    "            rigidities[mask] = totalFlucts\n",
    "            fullRigidities[mask] = flucts\n",
    "            mobilities[mask] = mobility\n",
    "    return rigidities, fullRigidities, mobilities\n",
    "\n",
    "def realFluctsG(nc, pdb):\n",
    "    model = 'gnm'\n",
    "    #from input import pdb\n",
    "    from make_model import getPDB\n",
    "    capsid, calphas, title = getPDB(pdb)\n",
    "    \n",
    "    nModes = 700\n",
    "\n",
    "\n",
    "    modes = np.load('../results/models/' + pdb + model + 'modes' + '.npz')\n",
    "    print(list(modes.keys()))\n",
    "    evals = modes['evals'][:nModes].copy()\n",
    "    evecs = modes['evecs'][:,:nModes].copy()\n",
    "    print(evecs.shape)\n",
    "    results = np.load('../results/subdivisions/' + pdb + '/' + pdb + '_' + str(nc) + '_results.npz')\n",
    "    labels = results['labels']\n",
    "    \n",
    "    sqFlucts = fastFlucts(evals, evecs, nModes)\n",
    "    \n",
    "    rigidities, fullRigidities, mobility = loopFluctsG(evals,evecs.copy(),labels)\n",
    "\n",
    "\n",
    "    from prody import loadAtoms, writePDB, extendModel, extendAtomicData, ANM, showProtein\n",
    "    print(rigidities)\n",
    "    calphas = capsid.select('calpha')\n",
    "    calphas.setBetas(fullRigidities)\n",
    "    print(mobility)\n",
    "    writePDB('../results/subdivisions/' + pdb + '/' + pdb + '_' + str(nc) + '_rigidtest.pdb', calphas, beta=rigidities,\n",
    "             hybrid36=True)\n",
    "    return rigidities, fullRigidities, mobility, calphas"
   ]
  },
  {
   "cell_type": "code",
   "execution_count": 18,
   "id": "ddfef55b-eac9-4384-9351-ee844de99ec6",
   "metadata": {
    "tags": []
   },
   "outputs": [
    {
     "name": "stderr",
     "output_type": "stream",
     "text": [
      "@> 24653 atoms and 1 coordinate set(s) were parsed in 0.19s.\n"
     ]
    },
    {
     "name": "stdout",
     "output_type": "stream",
     "text": [
      "24653 atoms and 1 coordinate set(s) were parsed in 0.19s.\n"
     ]
    },
    {
     "name": "stderr",
     "output_type": "stream",
     "text": [
      "@> Biomolecular transformations were applied to the coordinate data.\n"
     ]
    },
    {
     "name": "stdout",
     "output_type": "stream",
     "text": [
      "Biomolecular transformations were applied to the coordinate data.\n",
      "Number Of Residues:  195240\n"
     ]
    },
    {
     "name": "stderr",
     "output_type": "stream",
     "text": [
      "@> WARNING Indices are exceeding 99999 and hybrid36 format is being used\n",
      "WARNING Indices are exceeding 99999 and hybrid36 format is being used\n"
     ]
    },
    {
     "name": "stdout",
     "output_type": "stream",
     "text": [
      "['evals', 'evecs']\n",
      "(195240, 700)\n",
      "[0.10411358 0.10411358 0.10411358 ... 0.10400867 0.1055001  0.1055001 ]\n",
      "[0.25564563 0.25564563 0.25564563 ... 0.26575611 0.26751016 0.26751016]\n"
     ]
    },
    {
     "name": "stderr",
     "output_type": "stream",
     "text": [
      "@> WARNING Indices are exceeding 99999 and hybrid36 format is being used\n",
      "WARNING Indices are exceeding 99999 and hybrid36 format is being used\n"
     ]
    }
   ],
   "source": [
    "pdb = '3j4u'\n",
    "nc = 210\n",
    "rigidities, fullRigidities, mobility, calphas = realFluctsG(nc, pdb)"
   ]
  },
  {
   "cell_type": "code",
   "execution_count": 19,
   "id": "fd871b5b-fe80-439c-a4be-ec7a7d71625f",
   "metadata": {},
   "outputs": [
    {
     "name": "stderr",
     "output_type": "stream",
     "text": [
      "@> 24653 atoms and 1 coordinate set(s) were parsed in 0.16s.\n"
     ]
    },
    {
     "name": "stdout",
     "output_type": "stream",
     "text": [
      "24653 atoms and 1 coordinate set(s) were parsed in 0.16s.\n"
     ]
    },
    {
     "name": "stderr",
     "output_type": "stream",
     "text": [
      "@> Biomolecular transformations were applied to the coordinate data.\n"
     ]
    },
    {
     "name": "stdout",
     "output_type": "stream",
     "text": [
      "Biomolecular transformations were applied to the coordinate data.\n",
      "Number Of Residues:  195240\n"
     ]
    },
    {
     "name": "stderr",
     "output_type": "stream",
     "text": [
      "@> WARNING Indices are exceeding 99999 and hybrid36 format is being used\n",
      "WARNING Indices are exceeding 99999 and hybrid36 format is being used\n",
      "@> WARNING Indices are exceeding 99999 and hybrid36 format is being used\n",
      "WARNING Indices are exceeding 99999 and hybrid36 format is being used\n"
     ]
    },
    {
     "data": {
      "text/plain": [
       "'../results/subdivisions/3j4u/3j4u_210_rigidtest.pdb'"
      ]
     },
     "execution_count": 19,
     "metadata": {},
     "output_type": "execute_result"
    }
   ],
   "source": [
    "from make_model import getPDB\n",
    "from prody import writePDB\n",
    "capsid, calphas, title = getPDB(pdb)\n",
    "data = np.load('../results/subdivisions/' + pdb + '_sqFlucts.npz')\n",
    "sqFlucts = data['sqFlucts']\n",
    "k = data['k']\n",
    "sqFlucts = sqFlucts/k\n",
    "calphas.setBetas(fullRigidities)\n",
    "writePDB('../results/subdivisions/' + pdb + '/' + pdb + '_' + str(nc) + '_rigidtest.pdb', calphas, beta=fullRigidities,\n",
    "             hybrid36=True)"
   ]
  },
  {
   "cell_type": "code",
   "execution_count": null,
   "id": "1128f5b0-f158-4b82-aa03-10dc04f6ec6b",
   "metadata": {},
   "outputs": [],
   "source": [
    "\n",
    "import py3Dmol\n",
    "from prody import showProtein, view3D\n",
    "#showProtein(capsid, flucts=fullRigidities)\n",
    "view = view3D(calphas)\n",
    "view.setStyle({'sphere':{'colorscheme':{'prop':'b'}}})\n",
    "\n",
    "\n",
    "view.show()"
   ]
  },
  {
   "cell_type": "code",
   "execution_count": null,
   "id": "15542e01-2341-4400-8aed-65626fe8f879",
   "metadata": {},
   "outputs": [],
   "source": [
    "\n",
    "with open('../results/subdivisions/' + pdb + '/' + pdb + '_' + str(nc) + '_rigidtest.pdb') as ifile:\n",
    "    system = \"\".join([x for x in ifile])"
   ]
  },
  {
   "cell_type": "code",
   "execution_count": null,
   "id": "6db83bd0-493e-491c-8ad2-af50650cb8ff",
   "metadata": {},
   "outputs": [],
   "source": [
    "import py3Dmol\n",
    "view = py3Dmol.view(width=800, height=800)\n",
    "view.addModelsAsFrames(system)\n",
    "view.setStyle({'sphere':{'colorscheme':{'prop':'b'}}})\n",
    "view.addSurface(py3Dmol.VDW,{'opacity':0.7,'colorscheme':{'prop':'b','gradient':'sinebow','min':0,'max':70}})\n",
    "view.zoomTo()\n",
    "view.show()"
   ]
  },
  {
   "cell_type": "code",
   "execution_count": null,
   "id": "29838201-7f21-487e-9866-5134291d2b73",
   "metadata": {
    "tags": []
   },
   "outputs": [
    {
     "name": "stderr",
     "output_type": "stream",
     "text": [
      "@> 10692 atoms and 1 coordinate set(s) were parsed in 0.08s.\n"
     ]
    },
    {
     "name": "stdout",
     "output_type": "stream",
     "text": [
      "10692 atoms and 1 coordinate set(s) were parsed in 0.08s.\n"
     ]
    },
    {
     "name": "stderr",
     "output_type": "stream",
     "text": [
      "@> Biomolecular transformations were applied to the coordinate data.\n"
     ]
    },
    {
     "name": "stdout",
     "output_type": "stream",
     "text": [
      "Biomolecular transformations were applied to the coordinate data.\n",
      "Number Of Residues:  1389\n",
      "['evals', 'evecs']\n",
      "(1389, 10)\n",
      "go\n"
     ]
    }
   ],
   "source": [
    "%timeit realFluctsG(4, '2qi9')"
   ]
  },
  {
   "cell_type": "code",
   "execution_count": null,
   "id": "64a9c230-fd22-44af-9b87-371865297da8",
   "metadata": {
    "tags": []
   },
   "outputs": [],
   "source": [
    "%timeit realFlucts(4, '2qi9')"
   ]
  },
  {
   "cell_type": "code",
   "execution_count": null,
   "id": "a9be4cbc-d72c-4d0d-bd43-cdf17c45bf90",
   "metadata": {},
   "outputs": [],
   "source": [
    "pdb = '2qi9'\n",
    "nc = 4\n",
    "data = np.load('../results/subdivisions/' + pdb + '_sqFlucts.npz')\n",
    "sqFlucts = data['sqFlucts']\n",
    "modes = np.load('../results/models/' + pdb + 'anm' + 'modes.npz')\n",
    "evals = modes['evals']\n",
    "evecs = modes['evecs']\n",
    "results = np.load('../results/subdivisions/' + pdb + '/' + pdb + '_' + str(nc) + '_results.npz')\n",
    "labels = results['labels']"
   ]
  },
  {
   "cell_type": "code",
   "execution_count": null,
   "id": "4a020f68-7a8a-4d05-a3e7-b2f5ee92794a",
   "metadata": {},
   "outputs": [],
   "source": [
    "mask = (labels == 2)\n",
    "evecs = evecs.reshape(-1,3,evals.shape[0])\n",
    "cVecs = evecs[mask, :]\n",
    "# cVecs = cVecs.reshape(-1, n_evals)\n",
    "cFlucts = sqFlucts[mask]\n"
   ]
  },
  {
   "cell_type": "code",
   "execution_count": null,
   "id": "0c9f43c1-7316-49ae-b90b-7f645425581f",
   "metadata": {},
   "outputs": [],
   "source": [
    "c_size = evecs.shape[0]\n",
    "flucts = np.zeros(c_size)\n",
    "i = 5\n",
    "j = 7\n",
    "evi = cVecs[i,:,:]\n",
    "evj = cVecs[j,:,:]\n",
    "sqFluct = cFlucts[i] + cFlucts[j]"
   ]
  },
  {
   "cell_type": "code",
   "execution_count": null,
   "id": "a67a316b-9d60-4697-b036-6df76f69e8e4",
   "metadata": {},
   "outputs": [],
   "source": [
    "%load_ext line_profiler\n",
    "#%load_ext autoreload\n",
    "#%autoreload 2"
   ]
  },
  {
   "cell_type": "code",
   "execution_count": null,
   "id": "1dc17077-8c59-4f4b-a302-9b619b00eebd",
   "metadata": {},
   "outputs": [],
   "source": [
    "%lprun -f clusterFlucts clusterFlucts(evals, cVecs, cFlucts)"
   ]
  },
  {
   "cell_type": "code",
   "execution_count": null,
   "id": "4e674c5f-d37e-4412-9e8d-0922461f589d",
   "metadata": {},
   "outputs": [],
   "source": []
  },
  {
   "cell_type": "code",
   "execution_count": 1,
   "id": "6865c92b-4cff-4be4-9fdd-a2488f54e3d1",
   "metadata": {
    "tags": []
   },
   "outputs": [],
   "source": [
    "#from eval import realFlucts\n",
    "import numba as nb\n",
    "import numpy as np\n",
    "\n",
    "@nb.njit(nb.float64(nb.float64, nb.float64[:], nb.float64[:,:],nb.float64[:,:]), fastmath=False, nogil=True)\n",
    "def pairDists(sqFluct, evals, evi, evj):\n",
    "    n_e = evals.shape[0]\n",
    "    cij = 0\n",
    "    for n in range(n_e):\n",
    "        l = evals[n]\n",
    "        cij += 1 / l * np.sum(evi[:,n] * evj[:,n])\n",
    "    d = sqFluct - 2*cij\n",
    "    return d\n",
    "\n",
    "@nb.njit(nb.float64[:](nb.float64[:],nb.float64[:,:,:],nb.float64[:]),nogil=True)\n",
    "def clusterFlucts(evals, evecs, sqFlucts):\n",
    "    c_size = evecs.shape[0]\n",
    "    flucts = np.zeros(c_size)\n",
    "    for i in range(c_size):\n",
    "        for j in range(c_size):\n",
    "            if i==j:\n",
    "                continue\n",
    "            evi = evecs[i,:,:]\n",
    "            evj = evecs[j,:,:]\n",
    "            sqFluct = sqFlucts[i] + sqFlucts[j]\n",
    "            flucts[i] += pairDists(sqFluct, evals, evi, evj)/2\n",
    "    return flucts\n",
    "\n",
    "@nb.njit(nogil=True)\n",
    "def loopFlucts(evals, evecs, labels, sqFlucts):\n",
    "    n_clusters = np.max(labels)+1\n",
    "    fullRigidities = np.zeros_like(sqFlucts)\n",
    "    rigidities = np.zeros_like(sqFlucts)\n",
    "    n_evals = evals.shape[0]\n",
    "    evecs = evecs.reshape(-1,3,n_evals)\n",
    "    for i in range(n_clusters):\n",
    "        mask = (labels == i)\n",
    "        if not np.any(mask):\n",
    "            print('Some clusters unassigned')\n",
    "            rigidities[i] = 0\n",
    "        else:\n",
    "            cVecs = evecs[mask, :].copy()\n",
    "            # cVecs = cVecs.reshape(-1, n_evals)\n",
    "            cFlucts = sqFlucts[mask].copy()\n",
    "            flucts = clusterFlucts(evals, cVecs, cFlucts)\n",
    "            totalFlucts = flucts.sum()\n",
    "            fullRigidities[mask] = flucts\n",
    "            rigidities[mask] = totalFlucts\n",
    "\n",
    "    return rigidities, fullRigidities"
   ]
  }
 ],
 "metadata": {
  "kernelspec": {
   "display_name": "Python 3 (ipykernel)",
   "language": "python",
   "name": "python3"
  },
  "language_info": {
   "codemirror_mode": {
    "name": "ipython",
    "version": 3
   },
   "file_extension": ".py",
   "mimetype": "text/x-python",
   "name": "python",
   "nbconvert_exporter": "python",
   "pygments_lexer": "ipython3",
   "version": "3.9.12"
  }
 },
 "nbformat": 4,
 "nbformat_minor": 5
}
