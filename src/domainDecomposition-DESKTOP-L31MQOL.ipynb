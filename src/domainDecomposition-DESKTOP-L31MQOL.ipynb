{
 "cells": [
  {
   "cell_type": "code",
   "execution_count": 1,
   "id": "db8b3b3f-3e1d-4a97-bc19-a81249e803cf",
   "metadata": {},
   "outputs": [
    {
     "name": "stderr",
     "output_type": "stream",
     "text": [
      "\n",
      "Bad key text.latex.preview in file C:\\Users\\colin\\Miniconda3\\envs\\idp\\lib\\site-packages\\matplotlib\\mpl-data\\stylelib\\_classic_test.mplstyle, line 123 ('text.latex.preview : False')\n",
      "You probably need to get an updated matplotlibrc file from\n",
      "https://github.com/matplotlib/matplotlib/blob/v3.5.0/matplotlibrc.template\n",
      "or from the matplotlib source distribution\n",
      "\n",
      "Bad key mathtext.fallback_to_cm in file C:\\Users\\colin\\Miniconda3\\envs\\idp\\lib\\site-packages\\matplotlib\\mpl-data\\stylelib\\_classic_test.mplstyle, line 155 ('mathtext.fallback_to_cm : True  # When True, use symbols from the Computer Modern')\n",
      "You probably need to get an updated matplotlibrc file from\n",
      "https://github.com/matplotlib/matplotlib/blob/v3.5.0/matplotlibrc.template\n",
      "or from the matplotlib source distribution\n",
      "\n",
      "Bad key savefig.jpeg_quality in file C:\\Users\\colin\\Miniconda3\\envs\\idp\\lib\\site-packages\\matplotlib\\mpl-data\\stylelib\\_classic_test.mplstyle, line 418 ('savefig.jpeg_quality: 95       # when a jpeg is saved, the default quality parameter.')\n",
      "You probably need to get an updated matplotlibrc file from\n",
      "https://github.com/matplotlib/matplotlib/blob/v3.5.0/matplotlibrc.template\n",
      "or from the matplotlib source distribution\n",
      "\n",
      "Bad key keymap.all_axes in file C:\\Users\\colin\\Miniconda3\\envs\\idp\\lib\\site-packages\\matplotlib\\mpl-data\\stylelib\\_classic_test.mplstyle, line 466 ('keymap.all_axes : a                 # enable all axes')\n",
      "You probably need to get an updated matplotlibrc file from\n",
      "https://github.com/matplotlib/matplotlib/blob/v3.5.0/matplotlibrc.template\n",
      "or from the matplotlib source distribution\n",
      "\n",
      "Bad key animation.avconv_path in file C:\\Users\\colin\\Miniconda3\\envs\\idp\\lib\\site-packages\\matplotlib\\mpl-data\\stylelib\\_classic_test.mplstyle, line 477 ('animation.avconv_path: avconv     # Path to avconv binary. Without full path')\n",
      "You probably need to get an updated matplotlibrc file from\n",
      "https://github.com/matplotlib/matplotlib/blob/v3.5.0/matplotlibrc.template\n",
      "or from the matplotlib source distribution\n",
      "\n",
      "Bad key animation.avconv_args in file C:\\Users\\colin\\Miniconda3\\envs\\idp\\lib\\site-packages\\matplotlib\\mpl-data\\stylelib\\_classic_test.mplstyle, line 479 ('animation.avconv_args:            # Additional arguments to pass to avconv')\n",
      "You probably need to get an updated matplotlibrc file from\n",
      "https://github.com/matplotlib/matplotlib/blob/v3.5.0/matplotlibrc.template\n",
      "or from the matplotlib source distribution\n"
     ]
    }
   ],
   "source": [
    "from prody import *\n",
    "import numpy as np\n",
    "import numba as nb\n",
    "from sklearn.cluster import SpectralClustering, ward_tree\n",
    "from sklearnex import patch_sklearn\n",
    "from scipy.sparse.linalg import eigsh\n",
    "import scipy\n",
    "import os\n",
    "import wget\n",
    "import shutil\n",
    "import gzip\n",
    "import numba as nb\n",
    "import matplotlib.pyplot as plt\n",
    "import time\n",
    "import psutil\n"
   ]
  },
  {
   "cell_type": "code",
   "execution_count": null,
   "id": "5022a58c-3afa-4299-894e-bb21c65fa262",
   "metadata": {},
   "outputs": [],
   "source": []
  },
  {
   "cell_type": "code",
   "execution_count": 5,
   "id": "abf2ba06-30f1-434f-b647-517798cf45d5",
   "metadata": {},
   "outputs": [
    {
     "name": "stdout",
     "output_type": "stream",
     "text": [
      "https://files.rcsb.org/download/7kfr.pdb.gz\n",
      "100% [............................................................................] 178763 / 178763"
     ]
    }
   ],
   "source": [
    "pdb = '7kfr'\n",
    "n_modes = 30\n",
    "filename = pdb + '.pdb'\n",
    "\n",
    "if not os.path.exists(filename):\n",
    "    vdb_url = 'https://files.rcsb.org/download/' + pdb + '.pdb.gz'\n",
    "    print(vdb_url)\n",
    "    vdb_filename = wget.download(vdb_url)\n",
    "    with gzip.open(vdb_filename, 'rb') as f_in:\n",
    "        with open(filename, 'wb') as f_out:\n",
    "           shutil.copyfileobj(f_in, f_out)"
   ]
  },
  {
   "cell_type": "code",
   "execution_count": 6,
   "id": "2bf63377-2700-46c5-8180-b7dccf538901",
   "metadata": {
    "tags": []
   },
   "outputs": [
    {
     "name": "stderr",
     "output_type": "stream",
     "text": [
      "@> 8874 atoms and 1 coordinate set(s) were parsed in 0.06s.\n",
      "@> Biomolecular transformations were applied to the coordinate data.\n"
     ]
    },
    {
     "name": "stdout",
     "output_type": "stream",
     "text": [
      "31260\n"
     ]
    }
   ],
   "source": [
    "capsid = parsePDB(filename, biomol=True)\n",
    "\n",
    "calphas = capsid.select('ca').copy()\n",
    "n = calphas.getCoords().shape[0]\n",
    "print(n)\n",
    "cutoff = 10"
   ]
  },
  {
   "cell_type": "code",
   "execution_count": 6,
   "id": "b884a1c5-d1cd-4c36-bf78-0502ce9b93b0",
   "metadata": {
    "scrolled": true,
    "tags": []
   },
   "outputs": [
    {
     "name": "stderr",
     "output_type": "stream",
     "text": [
      "@> Using KDTree for building the Hessian.\n",
      "@> Hessian was built in 80.62s.\n",
      "C:\\Users\\colin\\AppData\\Local\\Temp/ipykernel_11728/2585224986.py:10: RuntimeWarning: divide by zero encountered in true_divide\n",
      "  anm._vars = 1/evals\n"
     ]
    }
   ],
   "source": [
    "type = 'anm'\n",
    "if type == 'anm':\n",
    "    anm = ANM(pdb + '_full')\n",
    "    anm.buildHessian(calphas, cutoff=cutoff, kdtree=True, sparse=True)\n",
    "    #print(calphas.shape[0])\n",
    "    evals, evecs = eigsh(anm.getHessian(), k=n_modes, sigma=1E-5, which='LA')\n",
    "    anm._eigvals = evals\n",
    "    anm._n_modes = len(evals)\n",
    "    anm._eigvecs = evecs\n",
    "    anm._vars = 1/evals\n",
    "    anm._array = evecs\n",
    "    model = anm\n",
    "elif type == 'gnm':\n",
    "    gnm = GNM(pdb + '_full')\n",
    "    gnm.buildKirchhoff(calphas, cutoff=cutoff, kdtree=True, sparse=True)\n",
    "    print(calphas.getCoords().shape[0])\n",
    "    evals, evecs = eigsh(gnm.getKirchhoff(), k=n_modes, sigma=1E-5, which='LA')\n",
    "    gnm._eigvals = evals\n",
    "    gnm._n_modes = len(evals)\n",
    "    gnm._eigvecs = evecs\n",
    "    gnm._vars = 1/evals\n",
    "    gnm._array = evecs\n",
    "    model = gnm"
   ]
  },
  {
   "cell_type": "code",
   "execution_count": 8,
   "id": "2c7e39d0-4a9b-4135-baa5-36fc1a05cd1c",
   "metadata": {},
   "outputs": [
    {
     "data": {
      "text/plain": [
       "'1cwp.nmd'"
      ]
     },
     "execution_count": 8,
     "metadata": {},
     "output_type": "execute_result"
    }
   ],
   "source": [
    "writeNMD('1cwp.nmd',model, calphas)"
   ]
  },
  {
   "cell_type": "code",
   "execution_count": 33,
   "id": "1b439cfd",
   "metadata": {},
   "outputs": [],
   "source": [
    "@nb.njit(parallel=True)\n",
    "def cov(evals, evecs, i, j):\n",
    "    n_e = evals.shape[0]\n",
    "    n_d = evecs.shape[1]\n",
    "    tr1 = 0\n",
    "    tr2 = 0\n",
    "    tr3 = 0\n",
    "    for n in nb.prange(n_e):\n",
    "        l = evals[n]\n",
    "        tr1 += 1 / l * (evecs[3 * i, n] * evecs[3 * j, n] + evecs[3 * i + 1, n] * evecs[3 * j + 1, n] + evecs[\n",
    "            3 * i + 2, n] * evecs[3 * j + 2, n])\n",
    "        # tr2 += 1 / l * (evecs[3 * i, n] * evecs[3 * i, n] + evecs[3 * i + 1, n] * evecs[3 * i + 1, n] + evecs[\n",
    "        #     3 * i + 2, n] * evecs[3 * i + 2, n])\n",
    "        # tr3 += 1 / l * (evecs[3 * j, n] * evecs[3 * j, n] + evecs[3 * j + 1, n] * evecs[3 * j + 1, n] + evecs[\n",
    "        #     3 * j + 2, n] * evecs[3 * j + 2, n])\n",
    "    cov = tr1 # / np.sqrt(tr2 * tr3)\n",
    "    return cov\n",
    "\n",
    "def con_c(evals, evecs, c, row, col):\n",
    "    n_d = int(evecs.shape[0] / 3)\n",
    "    n_e = evals.shape[0]\n",
    "\n",
    "    for k in range(row.shape[0]):\n",
    "        i, j = (row[k], col[k])\n",
    "        c[i, j] = cov(evals, evecs, i, j)\n",
    "    return c\n",
    "\n",
    "def con_d(c, d, row, col):\n",
    "    for k in range(row.shape[0]):\n",
    "        i, j = (row[k], col[k])\n",
    "        d[i, j] = 2 - 2 * c[i, j]\n",
    "    return d"
   ]
  },
  {
   "cell_type": "code",
   "execution_count": 34,
   "id": "5002d155-840b-4409-b0fe-1217baa69522",
   "metadata": {},
   "outputs": [],
   "source": [
    "from scipy import sparse\n",
    "\n",
    "evals = model.getEigvals()\n",
    "evecs = model.getEigvecs()\n",
    "n_d = int(evecs.shape[0] / 3)\n",
    "\n",
    "kirch = model.getKirchhoff().tocoo()\n",
    "\n",
    "covariance = sparse.lil_matrix((n_d, n_d))\n",
    "df = sparse.lil_matrix((n_d, n_d))\n",
    "covariance = con_c(evals, evecs, covariance, kirch.row, kirch.col)\n",
    "covariance = covariance.tocsr()\n",
    "d = con_d(covariance, df, kirch.row, kirch.col)\n",
    "d = d.tocsr()\n",
    "\n",
    "nnDistFlucts = np.mean(d.data)\n",
    "\n",
    "sigma = 1 / (2 * nnDistFlucts ** 2)\n",
    "sims = -sigma * d ** 2\n",
    "data = sims.data\n",
    "data = np.exp(data)\n",
    "sims.data = data"
   ]
  },
  {
   "cell_type": "code",
   "execution_count": 37,
   "id": "817aa11e-101c-4883-98d2-0cf43e7078e9",
   "metadata": {},
   "outputs": [],
   "source": [
    "def embedding(n_evecs, sims):\n",
    "    print('Performing Spectral Embedding')\n",
    "    from sklearnex import patch_sklearn\n",
    "    patch_sklearn()\n",
    "    from sklearn.manifold import spectral_embedding\n",
    "    X_transformed = spectral_embedding(sims, n_components=n_evecs, drop_first=False, eigen_solver='amg')\n",
    "    print('Memory Usage: ', psutil.virtual_memory().percent)\n",
    "    return X_transformed\n",
    "\n",
    "def embedding_manual(n_evecs, sims):\n",
    "    from sklearn.preprocessing import normalize\n",
    "    n = sims.shape[0]\n",
    "    diags = scipy.sparse.csr_matrix.sum(sims, axis=1)\n",
    "    diags = 1/(np.sqrt(diags))\n",
    "    D = sparse.csr_matrix((n,n))\n",
    "    D.setdiag(diags)\n",
    "    I = scipy.sparse.identity(n)\n",
    "    L = I - D @ sims @ D\n",
    "    evals, evecs = eigsh(L, k=n_evecs, sigma=1E-5, which='LA')\n",
    "    print(evecs.shape)\n",
    "    embedding = normalize(evecs, axis=1)\n",
    "    \n",
    "    return embedding\n"
   ]
  },
  {
   "cell_type": "code",
   "execution_count": 36,
   "id": "07568d51-250d-4e94-85af-bc802f2a9c15",
   "metadata": {},
   "outputs": [],
   "source": [
    "import torch\n",
    "import numpy as np\n",
    "import matplotlib.pyplot as plt\n",
    "from time import time\n",
    "from kmeans_pytorch import kmeans, kmeans_predict"
   ]
  },
  {
   "cell_type": "code",
   "execution_count": 9,
   "id": "c56a47a2-562c-4278-b7b1-b1b7a6bb7fc1",
   "metadata": {},
   "outputs": [],
   "source": [
    "# dimensions, num clusters\n",
    "dims, num_clusters = 2, 3\n",
    "\n",
    "# data sizes\n",
    "data_sizes = [100000, 1000000, 5000000, 10000000]"
   ]
  },
  {
   "cell_type": "code",
   "execution_count": null,
   "id": "dfa18cef-8ef0-4a60-a26e-d8a750a6e622",
   "metadata": {
    "collapsed": true,
    "jupyter": {
     "outputs_hidden": true
    },
    "tags": []
   },
   "outputs": [
    {
     "name": "stdout",
     "output_type": "stream",
     "text": [
      "\n",
      "data size: 100000\n",
      "running k-means on cuda:0..\n"
     ]
    },
    {
     "name": "stderr",
     "output_type": "stream",
     "text": [
      "\n",
      "[running kmeans]: 0it [00:00, ?it/s]\u001B[A\n",
      "[running kmeans]: 0it [00:00, ?it/s, center_shift=0.081078, iteration=1, tol=0.000100]\u001B[A\n",
      "[running kmeans]: 1it [00:00, 250.17it/s, center_shift=0.006660, iteration=2, tol=0.000100]\u001B[A\n",
      "[running kmeans]: 2it [00:00, 333.37it/s, center_shift=0.002075, iteration=3, tol=0.000100]\u001B[A\n",
      "[running kmeans]: 3it [00:00, 333.39it/s, center_shift=0.000707, iteration=4, tol=0.000100]\u001B[A\n",
      "[running kmeans]: 4it [00:00, 363.58it/s, center_shift=0.000243, iteration=5, tol=0.000100]\u001B[A\n",
      "[running kmeans]: 6it [00:00, 375.04it/s, center_shift=0.000075, iteration=6, tol=0.000100]\u001B[A\n"
     ]
    },
    {
     "name": "stdout",
     "output_type": "stream",
     "text": [
      "device is :cuda:0\n",
      "device is :cuda:0\n",
      "device is :cuda:0\n",
      "device is :cuda:0\n",
      "device is :cuda:0\n",
      "device is :cuda:0\n",
      "gpu time: 0.03999829292297363\n",
      "running k-means on cpu..\n"
     ]
    },
    {
     "name": "stderr",
     "output_type": "stream",
     "text": [
      "\n",
      "[running kmeans]: 0it [00:00, ?it/s]\u001B[A\n",
      "[running kmeans]: 0it [00:00, ?it/s, center_shift=0.144465, iteration=1, tol=0.000100]\u001B[A\n",
      "[running kmeans]: 1it [00:00, 45.46it/s, center_shift=0.007156, iteration=2, tol=0.000100]\u001B[A\n",
      "[running kmeans]: 2it [00:00, 60.60it/s, center_shift=0.001979, iteration=3, tol=0.000100]\u001B[A\n",
      "[running kmeans]: 3it [00:00, 65.22it/s, center_shift=0.000616, iteration=4, tol=0.000100]\u001B[A\n",
      "[running kmeans]: 4it [00:00, 65.57it/s, center_shift=0.000191, iteration=5, tol=0.000100]\u001B[A\n",
      "[running kmeans]: 6it [00:00, 80.00it/s, center_shift=0.000069, iteration=6, tol=0.000100]\u001B[A\n"
     ]
    },
    {
     "name": "stdout",
     "output_type": "stream",
     "text": [
      "device is :cpu\n",
      "device is :cpu\n",
      "device is :cpu\n",
      "device is :cpu\n",
      "device is :cpu\n",
      "device is :cpu\n",
      "cpu time: 0.08200240135192871\n",
      "\n",
      "data size: 1000000\n",
      "running k-means on cuda:0..\n"
     ]
    },
    {
     "name": "stderr",
     "output_type": "stream",
     "text": [
      "\n",
      "[running kmeans]: 0it [00:00, ?it/s]\u001B[A\n",
      "[running kmeans]: 0it [00:00, ?it/s, center_shift=0.025511, iteration=1, tol=0.000100]\u001B[A\n",
      "[running kmeans]: 1it [00:00, 166.66it/s, center_shift=0.016854, iteration=2, tol=0.000100]\u001B[A\n",
      "[running kmeans]: 2it [00:00, 250.00it/s, center_shift=0.007211, iteration=3, tol=0.000100]\u001B[A\n"
     ]
    },
    {
     "name": "stdout",
     "output_type": "stream",
     "text": [
      "device is :cuda:0\n",
      "device is :cuda:0\n",
      "device is :cuda:0\n",
      "device is :cuda:0\n"
     ]
    },
    {
     "name": "stderr",
     "output_type": "stream",
     "text": [
      "[running kmeans]: 3it [00:00, 272.70it/s, center_shift=0.001592, iteration=4, tol=0.000100]\u001B[A\n",
      "[running kmeans]: 4it [00:00, 285.68it/s, center_shift=0.000504, iteration=5, tol=0.000100]\u001B[A\n",
      "[running kmeans]: 5it [00:00, 312.49it/s, center_shift=0.000175, iteration=6, tol=0.000100]\u001B[A\n",
      "[running kmeans]: 7it [00:00, 304.35it/s, center_shift=0.000058, iteration=7, tol=0.000100]\u001B[A\n"
     ]
    },
    {
     "name": "stdout",
     "output_type": "stream",
     "text": [
      "device is :cuda:0\n",
      "device is :cuda:0\n",
      "device is :cuda:0\n",
      "gpu time: 0.05099940299987793\n",
      "running k-means on cpu..\n"
     ]
    },
    {
     "name": "stderr",
     "output_type": "stream",
     "text": [
      "\n",
      "[running kmeans]: 0it [00:00, ?it/s]\u001B[A\n",
      "[running kmeans]: 0it [00:00, ?it/s, center_shift=0.026171, iteration=1, tol=0.000100]\u001B[A\n",
      "[running kmeans]: 1it [00:00,  9.22it/s, center_shift=0.026171, iteration=1, tol=0.000100]\u001B[A"
     ]
    },
    {
     "name": "stdout",
     "output_type": "stream",
     "text": [
      "device is :cpu\n",
      "device is :cpu\n"
     ]
    },
    {
     "name": "stderr",
     "output_type": "stream",
     "text": [
      "\n",
      "[running kmeans]: 1it [00:00,  9.22it/s, center_shift=0.005824, iteration=2, tol=0.000100]\u001B[A\n",
      "[running kmeans]: 2it [00:00,  9.39it/s, center_shift=0.005824, iteration=2, tol=0.000100]\u001B[A\n",
      "[running kmeans]: 2it [00:00,  9.39it/s, center_shift=0.001413, iteration=3, tol=0.000100]\u001B[A\n",
      "[running kmeans]: 3it [00:00,  9.45it/s, center_shift=0.001413, iteration=3, tol=0.000100]\u001B[A"
     ]
    },
    {
     "name": "stdout",
     "output_type": "stream",
     "text": [
      "device is :cpu\n",
      "device is :cpu\n"
     ]
    },
    {
     "name": "stderr",
     "output_type": "stream",
     "text": [
      "\n",
      "[running kmeans]: 3it [00:00,  9.45it/s, center_shift=0.000407, iteration=4, tol=0.000100]\u001B[A\n",
      "[running kmeans]: 4it [00:00,  9.45it/s, center_shift=0.000135, iteration=5, tol=0.000100]\u001B[A\n",
      "[running kmeans]: 5it [00:00,  9.78it/s, center_shift=0.000135, iteration=5, tol=0.000100]\u001B[A\n"
     ]
    },
    {
     "name": "stdout",
     "output_type": "stream",
     "text": [
      "device is :cpu\n",
      "device is :cpu\n"
     ]
    },
    {
     "name": "stderr",
     "output_type": "stream",
     "text": [
      "[running kmeans]: 6it [00:00,  9.73it/s, center_shift=0.000046, iteration=6, tol=0.000100]\u001B[A\n"
     ]
    },
    {
     "name": "stdout",
     "output_type": "stream",
     "text": [
      "cpu time: 0.6415085792541504\n",
      "\n",
      "data size: 5000000\n",
      "running k-means on cuda:0..\n"
     ]
    },
    {
     "name": "stderr",
     "output_type": "stream",
     "text": [
      "\n",
      "[running kmeans]: 0it [00:00, ?it/s]\u001B[A\n",
      "[running kmeans]: 0it [00:00, ?it/s, center_shift=0.517971, iteration=1, tol=0.000100]\u001B[A\n",
      "[running kmeans]: 1it [00:00, 100.00it/s, center_shift=0.027019, iteration=2, tol=0.000100]\u001B[A\n",
      "[running kmeans]: 2it [00:00, 111.10it/s, center_shift=0.009437, iteration=3, tol=0.000100]\u001B[A\n",
      "[running kmeans]: 3it [00:00, 130.44it/s, center_shift=0.003204, iteration=4, tol=0.000100]\u001B[A\n",
      "[running kmeans]: 4it [00:00, 130.47it/s, center_shift=0.001079, iteration=5, tol=0.000100]\u001B[A\n",
      "[running kmeans]: 5it [00:00, 140.09it/s, center_shift=0.000360, iteration=6, tol=0.000100]\u001B[A\n",
      "[running kmeans]: 6it [00:00, 147.43it/s, center_shift=0.000122, iteration=7, tol=0.000100]\u001B[A\n",
      "[running kmeans]: 8it [00:00, 134.09it/s, center_shift=0.000041, iteration=8, tol=0.000100]\u001B[A\n"
     ]
    },
    {
     "name": "stdout",
     "output_type": "stream",
     "text": [
      "device is :cuda:0\n",
      "device is :cuda:0\n",
      "device is :cuda:0\n",
      "device is :cuda:0\n",
      "device is :cuda:0\n",
      "device is :cuda:0\n",
      "device is :cuda:0\n",
      "device is :cuda:0\n",
      "gpu time: 0.2396697998046875\n",
      "running k-means on cpu..\n"
     ]
    },
    {
     "name": "stderr",
     "output_type": "stream",
     "text": [
      "\n",
      "[running kmeans]: 0it [00:00, ?it/s]\u001B[A"
     ]
    },
    {
     "name": "stdout",
     "output_type": "stream",
     "text": [
      "device is :cpu\n"
     ]
    },
    {
     "name": "stderr",
     "output_type": "stream",
     "text": [
      "\n",
      "[running kmeans]: 0it [00:00, ?it/s, center_shift=0.108709, iteration=1, tol=0.000100]\u001B[A\n",
      "[running kmeans]: 1it [00:00,  2.03it/s, center_shift=0.108709, iteration=1, tol=0.000100]\u001B[A"
     ]
    },
    {
     "name": "stdout",
     "output_type": "stream",
     "text": [
      "device is :cpu\n"
     ]
    },
    {
     "name": "stderr",
     "output_type": "stream",
     "text": [
      "\n",
      "[running kmeans]: 1it [00:00,  2.03it/s, center_shift=0.025875, iteration=2, tol=0.000100]\u001B[A\n",
      "[running kmeans]: 2it [00:00,  2.06it/s, center_shift=0.025875, iteration=2, tol=0.000100]\u001B[A"
     ]
    },
    {
     "name": "stdout",
     "output_type": "stream",
     "text": [
      "device is :cpu\n"
     ]
    },
    {
     "name": "stderr",
     "output_type": "stream",
     "text": [
      "\n",
      "[running kmeans]: 2it [00:01,  2.06it/s, center_shift=0.008102, iteration=3, tol=0.000100]\u001B[A\n",
      "[running kmeans]: 3it [00:01,  2.06it/s, center_shift=0.008102, iteration=3, tol=0.000100]\u001B[A"
     ]
    },
    {
     "name": "stdout",
     "output_type": "stream",
     "text": [
      "device is :cpu\n"
     ]
    },
    {
     "name": "stderr",
     "output_type": "stream",
     "text": [
      "\n",
      "[running kmeans]: 3it [00:01,  2.06it/s, center_shift=0.002483, iteration=4, tol=0.000100]\u001B[A\n",
      "[running kmeans]: 4it [00:01,  2.02it/s, center_shift=0.002483, iteration=4, tol=0.000100]\u001B[A"
     ]
    },
    {
     "name": "stdout",
     "output_type": "stream",
     "text": [
      "device is :cpu\n"
     ]
    },
    {
     "name": "stderr",
     "output_type": "stream",
     "text": [
      "\n",
      "[running kmeans]: 4it [00:02,  2.02it/s, center_shift=0.000797, iteration=5, tol=0.000100]\u001B[A\n",
      "[running kmeans]: 5it [00:02,  2.00it/s, center_shift=0.000797, iteration=5, tol=0.000100]\u001B[A"
     ]
    },
    {
     "name": "stdout",
     "output_type": "stream",
     "text": [
      "device is :cpu\n"
     ]
    },
    {
     "name": "stderr",
     "output_type": "stream",
     "text": [
      "\n",
      "[running kmeans]: 5it [00:02,  2.00it/s, center_shift=0.000265, iteration=6, tol=0.000100]\u001B[A\n",
      "[running kmeans]: 6it [00:02,  2.00it/s, center_shift=0.000265, iteration=6, tol=0.000100]\u001B[A"
     ]
    },
    {
     "name": "stdout",
     "output_type": "stream",
     "text": [
      "device is :cpu\n"
     ]
    },
    {
     "name": "stderr",
     "output_type": "stream",
     "text": [
      "\n",
      "[running kmeans]: 6it [00:03,  2.00it/s, center_shift=0.000088, iteration=7, tol=0.000100]\u001B[A\n",
      "[running kmeans]: 7it [00:03,  2.00it/s, center_shift=0.000088, iteration=7, tol=0.000100]\u001B[A\n"
     ]
    },
    {
     "name": "stdout",
     "output_type": "stream",
     "text": [
      "cpu time: 3.7115354537963867\n",
      "\n",
      "data size: 10000000\n",
      "running k-means on cuda:0..\n"
     ]
    },
    {
     "name": "stderr",
     "output_type": "stream",
     "text": [
      "\n",
      "[running kmeans]: 0it [00:00, ?it/s]\u001B[A\n",
      "[running kmeans]: 0it [00:00, ?it/s, center_shift=0.042094, iteration=1, tol=0.000100]\u001B[A\n",
      "[running kmeans]: 1it [00:00, 55.59it/s, center_shift=0.008635, iteration=2, tol=0.000100]\u001B[A\n",
      "[running kmeans]: 2it [00:00, 57.15it/s, center_shift=0.002244, iteration=3, tol=0.000100]\u001B[A\n",
      "[running kmeans]: 3it [00:00, 68.19it/s, center_shift=0.000691, iteration=4, tol=0.000100]\u001B[A\n",
      "[running kmeans]: 4it [00:00, 74.09it/s, center_shift=0.000225, iteration=5, tol=0.000100]\u001B[A\n",
      "[running kmeans]: 6it [00:00, 67.40it/s, center_shift=0.000074, iteration=6, tol=0.000100]\u001B[A\n"
     ]
    },
    {
     "name": "stdout",
     "output_type": "stream",
     "text": [
      "device is :cuda:0\n",
      "device is :cuda:0\n",
      "device is :cuda:0\n",
      "device is :cuda:0\n",
      "device is :cuda:0\n",
      "device is :cuda:0\n",
      "gpu time: 0.552739143371582\n",
      "running k-means on cpu..\n"
     ]
    },
    {
     "name": "stderr",
     "output_type": "stream",
     "text": [
      "\n",
      "[running kmeans]: 0it [00:00, ?it/s]\u001B[A"
     ]
    },
    {
     "name": "stdout",
     "output_type": "stream",
     "text": [
      "device is :cpu\n"
     ]
    },
    {
     "name": "stderr",
     "output_type": "stream",
     "text": [
      "\n",
      "[running kmeans]: 0it [00:00, ?it/s, center_shift=0.043510, iteration=1, tol=0.000100]\u001B[A\n",
      "[running kmeans]: 1it [00:00,  1.04it/s, center_shift=0.043510, iteration=1, tol=0.000100]\u001B[A"
     ]
    },
    {
     "name": "stdout",
     "output_type": "stream",
     "text": [
      "device is :cpu\n"
     ]
    },
    {
     "name": "stderr",
     "output_type": "stream",
     "text": [
      "\n",
      "[running kmeans]: 1it [00:01,  1.04it/s, center_shift=0.000512, iteration=2, tol=0.000100]\u001B[A\n",
      "[running kmeans]: 2it [00:01,  1.06it/s, center_shift=0.000512, iteration=2, tol=0.000100]\u001B[A"
     ]
    },
    {
     "name": "stdout",
     "output_type": "stream",
     "text": [
      "device is :cpu\n"
     ]
    },
    {
     "name": "stderr",
     "output_type": "stream",
     "text": [
      "\n",
      "[running kmeans]: 2it [00:02,  1.06it/s, center_shift=0.000041, iteration=3, tol=0.000100]\u001B[A\n",
      "[running kmeans]: 3it [00:02,  1.05it/s, center_shift=0.000041, iteration=3, tol=0.000100]\u001B[A"
     ]
    },
    {
     "name": "stdout",
     "output_type": "stream",
     "text": [
      "cpu time: 3.3101043701171875\n"
     ]
    },
    {
     "name": "stderr",
     "output_type": "stream",
     "text": [
      "\n"
     ]
    }
   ],
   "source": [
    "\n",
    "gpu_times = []\n",
    "cpu_times = []\n",
    "\n",
    "for data_size in data_sizes:\n",
    "    print(f'\\ndata size: {data_size}')\n",
    "\n",
    "    # data\n",
    "    x = np.random.randn(data_size, dims) / 6\n",
    "    x = torch.from_numpy(x)\n",
    "\n",
    "    # gpu\n",
    "    start_gpu = time()\n",
    "    kmeans_gpu = kmeans(X=x, num_clusters=num_clusters, device=torch.device(0))\n",
    "    gpu_time = time() - start_gpu\n",
    "    gpu_times.append(gpu_time)\n",
    "    print(f'gpu time: {gpu_time}')\n",
    "    \n",
    "    # cpu\n",
    "    start_cpu = time()\n",
    "    kmeans_cpu = kmeans(X=x, num_clusters=num_clusters, device=torch.device('cpu'))\n",
    "    cpu_time = time() - start_cpu\n",
    "    cpu_times.append(cpu_time)\n",
    "    print(f'cpu time: {cpu_time}')"
   ]
  },
  {
   "cell_type": "code",
   "execution_count": 78,
   "id": "95b4f4d9-53d5-4ee1-8e38-705544c9ea1a",
   "metadata": {},
   "outputs": [
    {
     "data": {
      "text/plain": [
       "device(type='cuda', index=0)"
      ]
     },
     "execution_count": 78,
     "metadata": {},
     "output_type": "execute_result"
    }
   ],
   "source": [
    "torch.device(0)"
   ]
  },
  {
   "cell_type": "code",
   "execution_count": 54,
   "id": "a6a590fd-f0a6-4b01-9403-2d4295c76994",
   "metadata": {},
   "outputs": [],
   "source": [
    "def kmed_cuda(n_range, maps):\n",
    "    print('Clustering Embedded Points')\n",
    "\n",
    "    import torch\n",
    "    from kmeans_pytorch import kmeans\n",
    "\n",
    "    from sklearn.metrics import silhouette_score\n",
    "    from sklearn.metrics import davies_bouldin_score\n",
    "\n",
    "    labels = []\n",
    "    scores_km = []\n",
    "    for n in range(len(n_range)):\n",
    "        n_clusters = n_range[n]\n",
    "        print('Clusters: ' + str(n_clusters))\n",
    "        \n",
    "        m = torch.from_numpy(maps[:, :n_clusters])\n",
    "\n",
    "        label, cluster_centers = kmeans(\n",
    "    X=m, num_clusters=n_clusters, distance='euclidean', device=torch.device(0), tqdm_flag=False)\n",
    "        \n",
    "        label = label.numpy()\n",
    "        labels.append(label)\n",
    "\n",
    "\n",
    "        print('Scoring')\n",
    "        testScore = davies_bouldin_score(maps[:, :n_clusters], label)\n",
    "        scores_km.append(testScore)\n",
    "        print('Memory Usage: ', psutil.virtual_memory().percent)\n",
    "\n",
    "        print('Saving Results')\n",
    "        domains = label\n",
    "        nc = str(n_range[n])\n",
    "        writePDB(pdb + '_' + nc + '_domains.pdb', calphas, beta=domains)\n",
    "\n",
    "    return labels, scores_km"
   ]
  },
  {
   "cell_type": "code",
   "execution_count": 55,
   "id": "65c5fcff-b0a3-4761-9a38-6b5201279383",
   "metadata": {},
   "outputs": [],
   "source": [
    "def kmed_embedding(n_range, maps):\n",
    "    print('Clustering Embedded Points')\n",
    "\n",
    "\n",
    "    from sklearn.cluster import KMeans\n",
    "    from sklearn.cluster import k_means\n",
    "\n",
    "    from sklearn.metrics import silhouette_score\n",
    "    from sklearn.metrics import davies_bouldin_score\n",
    "\n",
    "    labels = []\n",
    "    scores_km = []\n",
    "    for n in range(len(n_range)):\n",
    "        n_clusters = n_range[n]\n",
    "        print('Clusters: ' + str(n_clusters))\n",
    "\n",
    "        # kmed = KMeans(n_clusters=n_clusters, n_init=200, tol=1e-8).fit(maps[:, :n_clusters])\n",
    "        # labels.append(kmed.labels_)\n",
    "        _, label, _ = k_means(maps[:, :n_clusters], n_clusters=n_clusters, n_init=10, tol=1e-8)\n",
    "        labels.append(label)\n",
    "\n",
    "\n",
    "        print('Scoring')\n",
    "        testScore = davies_bouldin_score(maps[:, :n_clusters], label)\n",
    "        scores_km.append(testScore)\n",
    "        print('Memory Usage: ', psutil.virtual_memory().percent)\n",
    "\n",
    "        print('Saving Results')\n",
    "        domains = label\n",
    "        nc = str(n_range[n])\n",
    "        writePDB(pdb + '_' + nc + '_domains.pdb', calphas, beta=domains)\n",
    "\n",
    "    return labels, scores_km"
   ]
  },
  {
   "cell_type": "code",
   "execution_count": 56,
   "id": "bbd0d640-2908-40f9-9d18-309d3eadf03d",
   "metadata": {
    "tags": []
   },
   "outputs": [
    {
     "name": "stdout",
     "output_type": "stream",
     "text": [
      "C:\\Users\\colin\\OneDrive - San Diego State University (SDSU.EDU)\\Research\\Domain_Subdivision\\mechanical_subdivision_ProDy\\src\n",
      "Spectral Clustering\n",
      "Performing Spectral Embedding\n"
     ]
    },
    {
     "name": "stderr",
     "output_type": "stream",
     "text": [
      "Intel(R) Extension for Scikit-learn* enabled (https://github.com/intel/scikit-learn-intelex)\n",
      "C:\\Users\\colin\\Miniconda3\\envs\\idp\\lib\\site-packages\\pyamg\\util\\utils.py:1844: RuntimeWarning: divide by zero encountered in true_divide\n",
      "  1.0 / largest_row_entry[largest_row_entry != 0]\n",
      "C:\\Users\\colin\\Miniconda3\\envs\\idp\\lib\\site-packages\\pyamg\\util\\utils.py:583: RuntimeWarning: divide by zero encountered in true_divide\n",
      "  Dinv[mask] = 1.0 / D[mask]\n"
     ]
    },
    {
     "name": "stdout",
     "output_type": "stream",
     "text": [
      "Memory Usage:  37.8\n",
      "5.5805182456970215  Seconds\n",
      "Clustering Embedded Points\n",
      "Clusters: 12\n",
      "Scoring\n",
      "Memory Usage:  37.8\n",
      "Saving Results\n",
      "Clusters: 14\n",
      "Scoring\n",
      "Memory Usage:  37.8\n",
      "Saving Results\n",
      "Clusters: 16\n",
      "Scoring\n",
      "Memory Usage:  37.8\n",
      "Saving Results\n",
      "Clusters: 18\n",
      "Scoring\n",
      "Memory Usage:  37.9\n",
      "Saving Results\n",
      "Clusters: 20\n",
      "Scoring\n",
      "Memory Usage:  37.9\n",
      "Saving Results\n",
      "Clusters: 22\n",
      "Scoring\n",
      "Memory Usage:  37.9\n",
      "Saving Results\n",
      "Clusters: 24\n",
      "Scoring\n",
      "Memory Usage:  37.9\n",
      "Saving Results\n",
      "Clusters: 26\n",
      "Scoring\n",
      "Memory Usage:  37.9\n",
      "Saving Results\n",
      "Clusters: 28\n",
      "Scoring\n",
      "Memory Usage:  37.9\n",
      "Saving Results\n",
      "Clusters: 30\n",
      "Scoring\n",
      "Memory Usage:  37.9\n",
      "Saving Results\n",
      "Clusters: 32\n",
      "Scoring\n",
      "Memory Usage:  37.9\n",
      "Saving Results\n",
      "Clusters: 34\n",
      "Scoring\n",
      "Memory Usage:  37.9\n",
      "Saving Results\n",
      "Clusters: 36\n",
      "Scoring\n",
      "Memory Usage:  37.9\n",
      "Saving Results\n",
      "Clusters: 38\n",
      "Scoring\n",
      "Memory Usage:  37.9\n",
      "Saving Results\n",
      "Clusters: 40\n",
      "Scoring\n",
      "Memory Usage:  37.9\n",
      "Saving Results\n",
      "Clusters: 42\n",
      "Scoring\n",
      "Memory Usage:  37.9\n",
      "Saving Results\n",
      "Clusters: 44\n",
      "Scoring\n",
      "Memory Usage:  37.9\n",
      "Saving Results\n",
      "Clusters: 46\n",
      "Scoring\n",
      "Memory Usage:  37.9\n",
      "Saving Results\n",
      "Clusters: 48\n",
      "Scoring\n",
      "Memory Usage:  37.8\n",
      "Saving Results\n",
      "Clusters: 50\n",
      "Scoring\n",
      "Memory Usage:  37.9\n",
      "Saving Results\n",
      "Clusters: 52\n",
      "Scoring\n",
      "Memory Usage:  37.9\n",
      "Saving Results\n",
      "Clusters: 54\n",
      "Scoring\n",
      "Memory Usage:  37.9\n",
      "Saving Results\n",
      "Clusters: 56\n",
      "Scoring\n",
      "Memory Usage:  37.9\n",
      "Saving Results\n",
      "Clusters: 58\n",
      "Scoring\n",
      "Memory Usage:  37.9\n",
      "Saving Results\n",
      "11.946390867233276  Seconds\n"
     ]
    }
   ],
   "source": [
    "cluster_start, cluster_stop, cluster_step = 12, 60, 2\n",
    "\n",
    "from sklearn.preprocessing import normalize\n",
    "print(os.getcwd())\n",
    "# os.chdir(\"../results/subdivisions/\")\n",
    "# if not os.path.exists(pdb):\n",
    "#     os.mkdir(pdb)\n",
    "# os.chdir(pdb)\n",
    "\n",
    "print('Spectral Clustering')\n",
    "n_range = np.arange(cluster_start, cluster_stop, cluster_step)\n",
    "n_evecs = max(n_range)\n",
    "start = time()\n",
    "maps = embedding(n_evecs, sims)\n",
    "end = time()\n",
    "print(end - start, ' Seconds')\n",
    "normalize(maps, copy=False)\n",
    "start = time()\n",
    "labels1, scores1 = kmed_cuda(n_range, maps)\n",
    "end = time()\n",
    "print(end - start, ' Seconds')"
   ]
  },
  {
   "cell_type": "code",
   "execution_count": 51,
   "id": "375f320b-1423-40dc-974b-758eb7584a60",
   "metadata": {
    "collapsed": true,
    "jupyter": {
     "outputs_hidden": true
    },
    "tags": []
   },
   "outputs": [
    {
     "name": "stdout",
     "output_type": "stream",
     "text": [
      "C:\\Users\\colin\\OneDrive - San Diego State University (SDSU.EDU)\\Research\\Domain_Subdivision\\mechanical_subdivision_ProDy\\src\n",
      "Spectral Clustering\n",
      "Performing Spectral Embedding\n"
     ]
    },
    {
     "name": "stderr",
     "output_type": "stream",
     "text": [
      "Intel(R) Extension for Scikit-learn* enabled (https://github.com/intel/scikit-learn-intelex)\n",
      "C:\\Users\\colin\\Miniconda3\\envs\\idp\\lib\\site-packages\\pyamg\\util\\utils.py:1844: RuntimeWarning: divide by zero encountered in true_divide\n",
      "  1.0 / largest_row_entry[largest_row_entry != 0]\n",
      "C:\\Users\\colin\\Miniconda3\\envs\\idp\\lib\\site-packages\\pyamg\\util\\utils.py:583: RuntimeWarning: divide by zero encountered in true_divide\n",
      "  Dinv[mask] = 1.0 / D[mask]\n"
     ]
    },
    {
     "name": "stdout",
     "output_type": "stream",
     "text": [
      "Memory Usage:  37.9\n",
      "5.906023025512695  Seconds\n",
      "Clustering Embedded Points\n",
      "Clusters: 12\n",
      "Scoring\n",
      "Memory Usage:  37.9\n",
      "Saving Results\n",
      "Clusters: 14\n",
      "Scoring\n",
      "Memory Usage:  37.9\n",
      "Saving Results\n",
      "Clusters: 16\n",
      "Scoring\n",
      "Memory Usage:  37.9\n",
      "Saving Results\n",
      "Clusters: 18\n",
      "Scoring\n",
      "Memory Usage:  37.9\n",
      "Saving Results\n",
      "Clusters: 20\n",
      "Scoring\n",
      "Memory Usage:  37.9\n",
      "Saving Results\n",
      "Clusters: 22\n",
      "Scoring\n",
      "Memory Usage:  37.9\n",
      "Saving Results\n",
      "Clusters: 24\n",
      "Scoring\n",
      "Memory Usage:  37.9\n",
      "Saving Results\n",
      "Clusters: 26\n",
      "Scoring\n",
      "Memory Usage:  37.9\n",
      "Saving Results\n",
      "Clusters: 28\n",
      "Scoring\n",
      "Memory Usage:  37.9\n",
      "Saving Results\n",
      "Clusters: 30\n",
      "Scoring\n",
      "Memory Usage:  37.9\n",
      "Saving Results\n",
      "Clusters: 32\n",
      "Scoring\n",
      "Memory Usage:  37.9\n",
      "Saving Results\n",
      "Clusters: 34\n",
      "Scoring\n",
      "Memory Usage:  37.9\n",
      "Saving Results\n",
      "Clusters: 36\n",
      "Scoring\n",
      "Memory Usage:  37.9\n",
      "Saving Results\n",
      "Clusters: 38\n",
      "Scoring\n",
      "Memory Usage:  37.9\n",
      "Saving Results\n",
      "Clusters: 40\n",
      "Scoring\n",
      "Memory Usage:  37.9\n",
      "Saving Results\n",
      "Clusters: 42\n",
      "Scoring\n",
      "Memory Usage:  37.9\n",
      "Saving Results\n",
      "Clusters: 44\n",
      "Scoring\n",
      "Memory Usage:  37.9\n",
      "Saving Results\n",
      "Clusters: 46\n",
      "Scoring\n",
      "Memory Usage:  37.9\n",
      "Saving Results\n",
      "Clusters: 48\n",
      "Scoring\n",
      "Memory Usage:  37.9\n",
      "Saving Results\n",
      "Clusters: 50\n",
      "Scoring\n",
      "Memory Usage:  37.9\n",
      "Saving Results\n",
      "Clusters: 52\n",
      "Scoring\n",
      "Memory Usage:  37.9\n",
      "Saving Results\n",
      "Clusters: 54\n",
      "Scoring\n",
      "Memory Usage:  37.9\n",
      "Saving Results\n",
      "Clusters: 56\n",
      "Scoring\n",
      "Memory Usage:  37.9\n",
      "Saving Results\n",
      "Clusters: 58\n",
      "Scoring\n",
      "Memory Usage:  37.9\n",
      "Saving Results\n",
      "31.634649515151978  Seconds\n"
     ]
    }
   ],
   "source": [
    "cluster_start, cluster_stop, cluster_step = 12, 60, 2\n",
    "\n",
    "from sklearn.preprocessing import normalize\n",
    "print(os.getcwd())\n",
    "# os.chdir(\"../results/subdivisions/\")\n",
    "# if not os.path.exists(pdb):\n",
    "#     os.mkdir(pdb)\n",
    "# os.chdir(pdb)\n",
    "\n",
    "print('Spectral Clustering')\n",
    "n_range = np.arange(cluster_start, cluster_stop, cluster_step)\n",
    "n_evecs = max(n_range)\n",
    "start = time()\n",
    "maps = embedding(n_evecs, sims)\n",
    "end = time()\n",
    "print(end - start, ' Seconds')\n",
    "normalize(maps, copy=False)\n",
    "start = time()\n",
    "labels2, scores2 = kmed_embedding(n_range, maps)\n",
    "end = time()\n",
    "print(end - start, ' Seconds')"
   ]
  },
  {
   "cell_type": "code",
   "execution_count": 53,
   "id": "33cf7b23-63e0-4c92-ae31-2540d55974b0",
   "metadata": {},
   "outputs": [
    {
     "name": "stdout",
     "output_type": "stream",
     "text": [
      "[]\n"
     ]
    }
   ],
   "source": [
    "print(labels1)\n"
   ]
  },
  {
   "cell_type": "code",
   "execution_count": 57,
   "id": "b22a31f6-e2b1-4dee-8e94-9fcf5490f297",
   "metadata": {},
   "outputs": [
    {
     "data": {
      "image/png": "[encoded data removed]",
      "text/plain": [
       "<Figure size 864x432 with 1 Axes>"
      ]
     },
     "metadata": {
      "needs_background": "light"
     },
     "output_type": "display_data"
    }
   ],
   "source": [
    "# cluster_similarity = [np.var(t)/(np.mean(t)) for t in cluster_types]\n",
    "fig, ax = plt.subplots(1,1, figsize=(12,6))\n",
    "ax.scatter(n_range, scores1, marker = 'D', label=pdb)\n",
    "ax.plot(n_range, scores1)\n",
    "ax.axvline(x = n_range[np.argmin(scores1)], label = 'Best Score', color = 'black')\n",
    "ax.set_xticks(n_range)\n",
    "ax.set_xlabel('n_clusters')\n",
    "ax.set_ylabel('Silhouette Score')\n",
    "ax.legend()\n",
    "fig.tight_layout()\n",
    "plt.show()"
   ]
  },
  {
   "cell_type": "code",
   "execution_count": 57,
   "id": "49fb2bb0-2884-4803-bb61-52070fb95e1c",
   "metadata": {},
   "outputs": [],
   "source": [
    "from sklearn.metrics import silhouette_score\n",
    "import matplotlib.pyplot as plt\n",
    "scores = []\n",
    "devs = []\n",
    "for n in range(len(n_range)):\n",
    "    domains = labels[n]\n",
    "    __, counts = np.unique(domains, return_counts = True)\n",
    "    devs.append(np.std(counts))\n",
    "    nc = str(n_range[n])\n",
    "    writePDB(pdb + '_' + nc + '_domains.pdb',calphas,beta=domains)"
   ]
  },
  {
   "cell_type": "code",
   "execution_count": 58,
   "id": "0a59bee5-bad4-4e65-b66d-e590c7c822c0",
   "metadata": {},
   "outputs": [
    {
     "ename": "NameError",
     "evalue": "name 'spectral_raw' is not defined",
     "output_type": "error",
     "traceback": [
      "\u001B[1;31m---------------------------------------------------------------------------\u001B[0m",
      "\u001B[1;31mNameError\u001B[0m                                 Traceback (most recent call last)",
      "\u001B[1;32m~\\AppData\\Local\\Temp/ipykernel_3976/1161431837.py\u001B[0m in \u001B[0;36m<module>\u001B[1;34m\u001B[0m\n\u001B[0;32m      1\u001B[0m \u001B[0mn_range\u001B[0m \u001B[1;33m=\u001B[0m \u001B[1;33m[\u001B[0m\u001B[1;36m12\u001B[0m\u001B[1;33m,\u001B[0m \u001B[1;36m20\u001B[0m\u001B[1;33m,\u001B[0m \u001B[1;36m30\u001B[0m\u001B[1;33m]\u001B[0m\u001B[1;33m\u001B[0m\u001B[1;33m\u001B[0m\u001B[0m\n\u001B[0;32m      2\u001B[0m \u001B[1;33m\u001B[0m\u001B[0m\n\u001B[1;32m----> 3\u001B[1;33m \u001B[0mquality\u001B[0m\u001B[1;33m,\u001B[0m \u001B[0mlabels1\u001B[0m\u001B[1;33m,\u001B[0m \u001B[0mcluster_types\u001B[0m \u001B[1;33m=\u001B[0m \u001B[0mspectral_raw\u001B[0m\u001B[1;33m(\u001B[0m\u001B[0msims\u001B[0m\u001B[1;33m,\u001B[0m \u001B[0mcalphas\u001B[0m\u001B[1;33m,\u001B[0m \u001B[0mn_range\u001B[0m\u001B[1;33m)\u001B[0m\u001B[1;33m\u001B[0m\u001B[1;33m\u001B[0m\u001B[0m\n\u001B[0m",
      "\u001B[1;31mNameError\u001B[0m: name 'spectral_raw' is not defined"
     ]
    }
   ],
   "source": [
    "n_range = [12, 20, 30] \n",
    "\n",
    "quality, labels1, cluster_types = spectral_raw(sims, calphas, n_range)"
   ]
  },
  {
   "cell_type": "code",
   "execution_count": null,
   "id": "8d9fb4ed-f897-4a35-83a9-a84f0852482b",
   "metadata": {},
   "outputs": [],
   "source": [
    "from sklearn.metrics import silhouette_score\n",
    "import matplotlib.pyplot as plt\n",
    "scores = []\n",
    "devs = []\n",
    "for n in range(len(n_range)):\n",
    "    domains = labels[n]\n",
    "    __, counts = np.unique(domains, return_counts = True)\n",
    "    devs.append(np.std(counts))\n",
    "    testScore = silhouette_score(distFlucts, domains, metric='precomputed')\n",
    "    scores.append(testScore)\n",
    "    print(len(np.unique(domains)))\n",
    "    nc = str(n_range[n])\n",
    "    writePDB(pdb + '_' + nc + '_domains.pdb',calphas,beta=domains)\n",
    "\n"
   ]
  },
  {
   "cell_type": "code",
   "execution_count": null,
   "id": "2de9951f-7bb7-4ca6-bb77-208684fe2513",
   "metadata": {},
   "outputs": [],
   "source": [
    "# cluster_similarity = [np.var(t)/(np.mean(t)) for t in cluster_types]\n",
    "fig, ax = plt.subplots(1,1, figsize=(12,6))\n",
    "ax.scatter(n_range, scores, marker = 'D', label=pdb)\n",
    "ax.plot(n_range, scores)\n",
    "ax.axvline(x = n_range[np.argmax(scores)], label = 'Best Score', color = 'black')\n",
    "ax.set_xticks(n_range)\n",
    "ax.set_xlabel('n_clusters')\n",
    "ax.set_ylabel('Silhouette Score')\n",
    "ax.legend()\n",
    "# ax[1].plot([32,60,90], cluster_types)\n",
    "# ax[1].set_ylabel('Unique Clusters')\n",
    "# fig.tight_layout()\n",
    "plt.show()"
   ]
  },
  {
   "cell_type": "code",
   "execution_count": null,
   "id": "529a10f2-5e46-4b21-b3f1-c4a4c330ae62",
   "metadata": {},
   "outputs": [],
   "source": [
    "from sklearn.metrics import silhouette_score\n",
    "import matplotlib.pyplot as plt\n",
    "scores = []\n",
    "devs = []\n",
    "for n in range(len(n_range)):\n",
    "    domains = labels1[n]\n",
    "    __, counts = np.unique(domains, return_counts = True)\n",
    "    devs.append(np.std(counts))\n",
    "    testScore = silhouette_score(distFlucts, domains, metric='precomputed')\n",
    "    scores.append(testScore)\n",
    "    print(len(np.unique(domains)))\n",
    "    nc = str(n_range[n])\n",
    "    writePDB(pdb + '_' + nc + '_domains.pdb',calphas,beta=domains)\n",
    "\n"
   ]
  },
  {
   "cell_type": "code",
   "execution_count": null,
   "id": "b1a90dfd-da53-4378-ac06-c85036bcddfb",
   "metadata": {},
   "outputs": [],
   "source": [
    "# cluster_similarity = [np.var(t)/(np.mean(t)) for t in cluster_types]\n",
    "fig, ax = plt.subplots(1,1, figsize=(12,6))\n",
    "ax.scatter(n_range, scores, marker = 'D', label=pdb)\n",
    "ax.plot(n_range, scores)\n",
    "ax.axvline(x = n_range[np.argmax(scores)], label = 'Best Score', color = 'black')\n",
    "ax.set_xticks(n_range)\n",
    "ax.set_xlabel('n_clusters')\n",
    "ax.set_ylabel('Silhouette Score')\n",
    "ax.legend()\n",
    "# ax[1].plot([32,60,90], cluster_types)\n",
    "# ax[1].set_ylabel('Unique Clusters')\n",
    "# fig.tight_layout()\n",
    "plt.show()"
   ]
  },
  {
   "cell_type": "code",
   "execution_count": null,
   "id": "f2142137-979d-4249-a030-fb76046b6bb4",
   "metadata": {},
   "outputs": [],
   "source": [
    "plt.plot(n_range, devs)"
   ]
  },
  {
   "cell_type": "code",
   "execution_count": null,
   "id": "6b92d747-39e0-466c-a7c3-21d4c62da2d2",
   "metadata": {},
   "outputs": [],
   "source": [
    "import nglview\n",
    "file = '1a34_20_domains.pdb'\n",
    "\n",
    "view = nglview.show_file(file)  # load \"3pqr\" from RCSB PDB and display viewer widget\n",
    "view.update_representation(color_scheme='bfactor')\n",
    "view.background = 'black'\n",
    "view"
   ]
  },
  {
   "cell_type": "code",
   "execution_count": null,
   "id": "25982a89-b237-4308-82a5-b249fcbea4ee",
   "metadata": {},
   "outputs": [],
   "source": []
  }
 ],
 "metadata": {
  "kernelspec": {
   "display_name": "Python 3 (ipykernel)",
   "language": "python",
   "name": "python3"
  },
  "language_info": {
   "codemirror_mode": {
    "name": "ipython",
    "version": 3
   },
   "file_extension": ".py",
   "mimetype": "text/x-python",
   "name": "python",
   "nbconvert_exporter": "python",
   "pygments_lexer": "ipython3",
   "version": "3.8.11"
  }
 },
 "nbformat": 4,
 "nbformat_minor": 5
}