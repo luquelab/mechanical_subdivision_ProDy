{
 "cells": [
  {
   "cell_type": "code",
   "execution_count": 1,
   "id": "d24c08a0-b2e3-421d-9189-2fd506e030fa",
   "metadata": {},
   "outputs": [],
   "source": [
    "import numpy as np\n",
    "from scipy import sparse\n",
    "from scipy.sparse.linalg import eigsh, lobpcg"
   ]
  },
  {
   "cell_type": "code",
   "execution_count": 2,
   "id": "308f749b-ac46-4025-9cc9-08ec9a738914",
   "metadata": {},
   "outputs": [],
   "source": [
    "%load_ext memory_profiler"
   ]
  },
  {
   "cell_type": "code",
   "execution_count": 4,
   "id": "37565bd7-9512-4e89-9c07-c32e3dcf47fd",
   "metadata": {},
   "outputs": [
    {
     "name": "stdout",
     "output_type": "stream",
     "text": [
      "peak memory: 1668.97 MiB, increment: 1495.52 MiB\n"
     ]
    }
   ],
   "source": [
    "pdb = '2e0z'\n",
    "hess = sparse.load_npz('../results/models/' + pdb + 'hess.npz')\n",
    "%memit eigsh(hess, k=10, sigma=1E-5, which='LA')"
   ]
  },
  {
   "cell_type": "code",
   "execution_count": null,
   "id": "d22d2540-d107-455c-86ec-2c5deccbcc38",
   "metadata": {},
   "outputs": [
    {
     "name": "stdout",
     "output_type": "stream",
     "text": [
      "peak memory: 1416.71 MiB, increment: 1278.70 MiB\n",
      "peak memory: 4010.15 MiB, increment: 3796.19 MiB\n",
      "peak memory: 5726.07 MiB, increment: 5398.98 MiB\n"
     ]
    }
   ],
   "source": [
    "pdbs = ['4pt2', '6nj8', '6b0x', '3j4u']\n",
    "\n",
    "residues = []\n",
    "sizes = []\n",
    "\n",
    "for pdb in pdbs:\n",
    "    hess = sparse.load_npz('../results/models/' + pdb + 'hess.npz')\n",
    "    residues.append(int(hess.shape[0]/3))\n",
    "    sizes.append((hess.data.nbytes + hess.indptr.nbytes + hess.indices.nbytes)/(10**6))\n",
    "    %memit eigsh(hess, k=10, sigma=1E-5, which='LA')"
   ]
  },
  {
   "cell_type": "code",
   "execution_count": 6,
   "id": "1b27b9d4-a869-4452-acc5-bbf46a01257e",
   "metadata": {},
   "outputs": [
    {
     "name": "stdout",
     "output_type": "stream",
     "text": [
      "[16320, 42000]\n"
     ]
    }
   ],
   "source": [
    "print(residues)"
   ]
  },
  {
   "cell_type": "code",
   "execution_count": null,
   "id": "34b7a371-bc86-4f65-94ca-995d89cb6ee2",
   "metadata": {},
   "outputs": [],
   "source": []
  }
 ],
 "metadata": {
  "kernelspec": {
   "display_name": "Python 3 (ipykernel)",
   "language": "python",
   "name": "python3"
  },
  "language_info": {
   "codemirror_mode": {
    "name": "ipython",
    "version": 3
   },
   "file_extension": ".py",
   "mimetype": "text/x-python",
   "name": "python",
   "nbconvert_exporter": "python",
   "pygments_lexer": "ipython3",
   "version": "3.9.7"
  }
 },
 "nbformat": 4,
 "nbformat_minor": 5
}
