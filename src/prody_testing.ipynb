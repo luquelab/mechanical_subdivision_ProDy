{
 "cells": [
  {
   "cell_type": "code",
   "execution_count": 38,
   "metadata": {},
   "outputs": [
    {
     "name": "stdout",
     "output_type": "stream",
     "text": [
      "The line_profiler extension is already loaded. To reload it, use:\n",
      "  %reload_ext line_profiler\n"
     ]
    }
   ],
   "source": [
    "from prody import *\n",
    "import numpy as np\n",
    "import scipy\n",
    "from scipy import sparse\n",
    "from prody import LOGGER, SETTINGS\n",
    "from sklearn import cluster\n",
    "from sklearn import preprocessing\n",
    "\n",
    "%load_ext line_profiler"
   ]
  },
  {
   "cell_type": "code",
   "execution_count": 73,
   "metadata": {},
   "outputs": [
    {
     "name": "stderr",
     "output_type": "stream",
     "text": [
      "@> 94620 atoms and 1 coordinate set(s) were parsed in 1.05s.\n",
      "@> Using KDTree for building the Hessian.\n",
      "@> Hessian was built in 59.96s.\n"
     ]
    }
   ],
   "source": [
    "pdb = '1a34'\n",
    "capsid = parsePDB(\"C:/Users/Colin Brown/OneDrive - San Diego State University (SDSU.EDU)/Research/Domain_Subdivision/mechanical_subdivision_ProDy/data/capsid_pdbs/\" + pdb + \"_full.pdb\")\n",
    "calphas = capsid.select('calpha').copy()\n",
    "anm = ANM('network model')\n",
    "anm.buildHessian(calphas, cutoff=7.5, kdtree=True, sparse=True)"
   ]
  },
  {
   "cell_type": "code",
   "execution_count": 74,
   "metadata": {
    "scrolled": false
   },
   "outputs": [
    {
     "name": "stderr",
     "output_type": "stream",
     "text": [
      "@> WARNING More than 1 (13) zero eigenvalues were calculated.\n",
      "@> Solving for additional eigenvalues...\n",
      "@> 20 modes were calculated in 4394.87s.\n"
     ]
    }
   ],
   "source": [
    "gnm.calcModes(20,turbo=True)"
   ]
  },
  {
   "cell_type": "code",
   "execution_count": 37,
   "metadata": {},
   "outputs": [
    {
     "name": "stdout",
     "output_type": "stream",
     "text": [
      "20\n",
      "(8820, 75)\n",
      "(8820,)\n",
      "(8820, 20)\n"
     ]
    }
   ],
   "source": [
    "# Average degenerate modes\n",
    "print(len(np.unique(gnm.getEigvals().round(8))))\n",
    "#print(gnm.getEigvals())\n",
    "eigvals = gnm.getEigvals().round(8)\n",
    "unique_eigvals = np.unique(eigvals)\n",
    "eigvecs = gnm.getEigvecs().round(8)\n",
    "print(eigvecs.shape)\n",
    "eigvecs_unique = []\n",
    "for i in range(len(unique_eigvals)):\n",
    "    val = unique_eigvals[i]\n",
    "    #print('ah')\n",
    "    ind = np.nonzero(eigvals==val)\n",
    "    #print(ind[0])\n",
    "    #print(eigvecs[:,ind[0]].shape)\n",
    "    eigvecs_unique.append(np.mean(eigvecs[:,ind[0]].copy(),axis=1))\n",
    "\n",
    "print(eigvecs_unique[0].shape)\n",
    "eigvecs_unique = np.array(eigvecs_unique).T    \n",
    "print(np.array(eigvecs_unique).shape)\n"
   ]
  },
  {
   "cell_type": "code",
   "execution_count": 40,
   "metadata": {},
   "outputs": [],
   "source": [
    "eigvecs_unique = preprocessing.normalize(eigvecs_unique,norm='l1')"
   ]
  },
  {
   "cell_type": "code",
   "execution_count": 33,
   "metadata": {},
   "outputs": [],
   "source": [
    "distFlucts = calcDistFlucts(gnm)"
   ]
  },
  {
   "cell_type": "code",
   "execution_count": 52,
   "metadata": {},
   "outputs": [
    {
     "name": "stdout",
     "output_type": "stream",
     "text": [
      "  (0, 0)\t2.0\n",
      "  (0, 1)\t-1.0\n",
      "  (0, 2)\t-1.0\n",
      "  (1, 0)\t-1.0\n",
      "  (1, 1)\t4.0\n",
      "  (1, 2)\t-1.0\n",
      "  (1, 3)\t-1.0\n",
      "  (1, 2208)\t-1.0\n",
      "  (2, 0)\t-1.0\n",
      "  (2, 1)\t-1.0\n",
      "  (2, 2)\t7.0\n",
      "  (2, 3)\t-1.0\n",
      "  (2, 4)\t-1.0\n",
      "  (2, 5)\t-1.0\n",
      "  (2, 849)\t-1.0\n",
      "  (2, 850)\t-1.0\n",
      "  (3, 1)\t-1.0\n",
      "  (3, 2)\t-1.0\n",
      "  (3, 3)\t5.0\n",
      "  (3, 4)\t-1.0\n",
      "  (3, 5)\t-1.0\n",
      "  (3, 2500)\t-1.0\n",
      "  (4, 2)\t-1.0\n",
      "  (4, 3)\t-1.0\n",
      "  (4, 4)\t5.0\n",
      "  :\t:\n",
      "  (8817, 8819)\t-1.0\n",
      "  (8818, 8696)\t-1.0\n",
      "  (8818, 8697)\t-1.0\n",
      "  (8818, 8698)\t-1.0\n",
      "  (8818, 8730)\t-1.0\n",
      "  (8818, 8732)\t-1.0\n",
      "  (8818, 8733)\t-1.0\n",
      "  (8818, 8734)\t-1.0\n",
      "  (8818, 8816)\t-1.0\n",
      "  (8818, 8817)\t-1.0\n",
      "  (8818, 8818)\t10.0\n",
      "  (8818, 8819)\t-1.0\n",
      "  (8819, 1329)\t-1.0\n",
      "  (8819, 1562)\t-1.0\n",
      "  (8819, 1563)\t-1.0\n",
      "  (8819, 1564)\t-1.0\n",
      "  (8819, 8695)\t-1.0\n",
      "  (8819, 8696)\t-1.0\n",
      "  (8819, 8697)\t-1.0\n",
      "  (8819, 8730)\t-1.0\n",
      "  (8819, 8732)\t-1.0\n",
      "  (8819, 8733)\t-1.0\n",
      "  (8819, 8817)\t-1.0\n",
      "  (8819, 8818)\t-1.0\n",
      "  (8819, 8819)\t12.0\n"
     ]
    }
   ],
   "source": [
    "print(gnm._kirchhoff)"
   ]
  },
  {
   "cell_type": "code",
   "execution_count": 67,
   "metadata": {},
   "outputs": [
    {
     "name": "stdout",
     "output_type": "stream",
     "text": [
      "[6 6 6 ... 1 1 1]\n"
     ]
    }
   ],
   "source": [
    "test = cluster.SpectralClustering(assign_labels='kmeans',n_clusters=30,n_init=10,affinity='precomputed',n_jobs=4).fit(np.abs(gnm._kirchhoff))\n",
    "print(test.labels_)"
   ]
  },
  {
   "cell_type": "code",
   "execution_count": 68,
   "metadata": {},
   "outputs": [
    {
     "name": "stdout",
     "output_type": "stream",
     "text": [
      "30\n"
     ]
    },
    {
     "data": {
      "text/plain": [
       "'1cwp_full_domains.pdb'"
      ]
     },
     "execution_count": 68,
     "metadata": {},
     "output_type": "execute_result"
    }
   ],
   "source": [
    "domains = test.labels_\n",
    "print(len(np.unique(domains)))\n",
    "calphas.setData('domain',domains)\n",
    "writePDB('1cwp_full_domains.pdb',calphas,beta=domains)"
   ]
  },
  {
   "cell_type": "code",
   "execution_count": 48,
   "metadata": {},
   "outputs": [],
   "source": [
    "hinges = calcHinges(gnm)"
   ]
  },
  {
   "cell_type": "code",
   "execution_count": 47,
   "metadata": {},
   "outputs": [
    {
     "data": {
      "text/plain": [
       "<mpl_toolkits.mplot3d.axes3d.Axes3D at 0x1967ad77f88>"
      ]
     },
     "execution_count": 47,
     "metadata": {},
     "output_type": "execute_result"
    },
    {
     "data": {
      "image/png": "[encoded data removed]",
      "text/plain": [
       "<Figure size 432x288 with 1 Axes>"
      ]
     },
     "metadata": {
      "needs_background": "light"
     },
     "output_type": "display_data"
    }
   ],
   "source": [
    "showProtein(calphas, mode=gnm[4])"
   ]
  },
  {
   "cell_type": "code",
   "execution_count": 27,
   "metadata": {},
   "outputs": [],
   "source": [
    "%lprun -f calcDistFlucts distFlucts = calcDistFlucts(gnm,n_cpu=1)"
   ]
  },
  {
   "cell_type": "code",
   "execution_count": 29,
   "metadata": {
    "scrolled": true
   },
   "outputs": [],
   "source": [
    "%lprun -f calcSpectrusSims sparseSim, sigma = calcSpectrusSims(distFlucts, calphas)"
   ]
  },
  {
   "cell_type": "code",
   "execution_count": 31,
   "metadata": {
    "code_folding": [
     0,
     17,
     33
    ]
   },
   "outputs": [],
   "source": [
    "def _removeOutliers(data, Delta=100., **kwargs):\n",
    "    assert Delta > 0.\n",
    "    med = np.median(data[~np.isnan(data)])\n",
    "    if not 0 <= med <= 1e+4:\n",
    "        raise RuntimeError('MBS profile is not well defined: Check for ' +\\\n",
    "        'possible disconnected components in the PDB structure and remove them.')\n",
    "    # compute median of |distances from median|\n",
    "    dists = np.abs(data - med)\n",
    "    mdev = np.median(dists[~np.isnan(dists)])\n",
    "    # replace entries with 'nan' if outside the \"safe\"\n",
    "    # interval (median - Delta*mdev, median + Delta*mdev)\n",
    "    Delta_mdev = Delta * mdev\n",
    "    for i, dist in enumerate(dists):\n",
    "        if np.isnan(dist) or dist>Delta_mdev:\n",
    "            data[i] = np.nan\n",
    "    return data \n",
    "\n",
    "def MBSPointMutation(simMatrix, index, **kwargs):\n",
    "\n",
    "    if sparse.issparse(simMatrix):\n",
    "        # slightly faster\n",
    "        newSim = simMatrix.tolil()\n",
    "    else:\n",
    "        newSim = simMatrix.copy()\n",
    "    n = simMatrix.shape[0]\n",
    "\n",
    "    # cut non-adjacent links around atom 'index'\n",
    "    nonNearestNeighs = list(range(0,index-1)) + list(range(index+2,n))\n",
    "    for j in nonNearestNeighs:\n",
    "        newSim[index, j] = 0\n",
    "        newSim[j, index] = 0\n",
    "    return newSim\n",
    "\n",
    "def calcMBSfromSims(simMatrix, nEvals=20, remove_outliers=True,\n",
    "                   remove_offset=True, **kwargs):\n",
    "\n",
    "    LOGGER.timeit('_MBS')\n",
    "    n = simMatrix.shape[0]\n",
    "    mbs = np.zeros(n) \n",
    "    for i in range(n):\n",
    "        try:\n",
    "            # cut \"non-covalent\" bonds around atom 'i'\n",
    "            modSim = MBSPointMutation(simMatrix, i)\n",
    "            # compute laplacian's spectrum of eigvals\n",
    "            laplacian = sparse.csgraph.laplacian(modSim, normed=True)\n",
    "            evals = sparse.linalg.eigsh(laplacian, k=min(nEvals, n-1), \n",
    "                                        which='SM', return_eigenvectors=False)\n",
    "            # sort eigvals in ascending order\n",
    "            evals = np.sort(evals)\n",
    "            # compute MBS at site i\n",
    "            mbs[i] = np.sum(1./evals[1:])\n",
    "        except Exception as err:\n",
    "            LOGGER.warn('Unable to compute MBS at position '\n",
    "                        '{0}. {1}'.format(i, err))\n",
    "            mbs[i] = np.nan\n",
    "    if any(~np.isnan(mbs)):\n",
    "        # remove outliers\n",
    "        if remove_outliers is True:\n",
    "            mbs = _removeOutliers(mbs, **kwargs)\n",
    "        # remove offset\n",
    "        if remove_offset is True:\n",
    "            offset = min(mbs[~np.isnan(mbs)])\n",
    "            mbs = mbs - offset \n",
    "    LOGGER.report('MBS computed in %.1fs.', '_MBS')\n",
    "\n",
    "    return mbs"
   ]
  },
  {
   "cell_type": "code",
   "execution_count": 39,
   "metadata": {},
   "outputs": [
    {
     "name": "stdout",
     "output_type": "stream",
     "text": [
      "(8820, 8820)\n"
     ]
    }
   ],
   "source": [
    "print(sparseSim.shape)"
   ]
  },
  {
   "cell_type": "code",
   "execution_count": 37,
   "metadata": {},
   "outputs": [
    {
     "name": "stdout",
     "output_type": "stream",
     "text": [
      "*** KeyboardInterrupt exception caught in code being profiled."
     ]
    }
   ],
   "source": [
    "%lprun -f calcMBSfromSims mbs = calcMBSfromSims(sparseSim, nEvals=1)"
   ]
  },
  {
   "cell_type": "code",
   "execution_count": 32,
   "metadata": {},
   "outputs": [
    {
     "name": "stdout",
     "output_type": "stream",
     "text": [
      "[0.41030012 0.40500531 0.3681981  ... 0.23837591 0.28597903 0.35213896]\n"
     ]
    }
   ],
   "source": [
    "print(mbs)"
   ]
  },
  {
   "cell_type": "code",
   "execution_count": 60,
   "metadata": {
    "scrolled": true
   },
   "outputs": [
    {
     "name": "stdout",
     "output_type": "stream",
     "text": [
      "20\n"
     ]
    },
    {
     "data": {
      "text/plain": [
       "'1a34_full_domains.pdb'"
      ]
     },
     "execution_count": 60,
     "metadata": {},
     "output_type": "execute_result"
    }
   ],
   "source": [
    "\n"
   ]
  },
  {
   "cell_type": "code",
   "execution_count": 52,
   "metadata": {},
   "outputs": [
    {
     "name": "stdout",
     "output_type": "stream",
     "text": [
      "(8820, 3)\n"
     ]
    }
   ],
   "source": [
    "print(calphas.getCoords().shape)"
   ]
  },
  {
   "cell_type": "code",
   "execution_count": 53,
   "metadata": {},
   "outputs": [],
   "source": [
    "calphas.setData('domain',domains)"
   ]
  },
  {
   "cell_type": "code",
   "execution_count": 54,
   "metadata": {
    "scrolled": true
   },
   "outputs": [
    {
     "name": "stdout",
     "output_type": "stream",
     "text": [
      "AtomGroup 1a34_full Selection 'calpha'\n"
     ]
    }
   ],
   "source": [
    "print(calphas)"
   ]
  },
  {
   "cell_type": "code",
   "execution_count": 55,
   "metadata": {},
   "outputs": [
    {
     "data": {
      "text/plain": [
       "'1a34_full_domains.pdb'"
      ]
     },
     "execution_count": 55,
     "metadata": {},
     "output_type": "execute_result"
    }
   ],
   "source": [
    "writePDB('1a34_full_domains.pdb',calphas,beta=domains)"
   ]
  },
  {
   "cell_type": "code",
   "execution_count": null,
   "metadata": {},
   "outputs": [],
   "source": []
  }
 ],
 "metadata": {
  "kernelspec": {
   "display_name": "Python 3",
   "language": "python",
   "name": "python3"
  },
  "language_info": {
   "codemirror_mode": {
    "name": "ipython",
    "version": 3
   },
   "file_extension": ".py",
   "mimetype": "text/x-python",
   "name": "python",
   "nbconvert_exporter": "python",
   "pygments_lexer": "ipython3",
   "version": "3.7.7"
  },
  "toc": {
   "base_numbering": 1,
   "nav_menu": {},
   "number_sections": true,
   "sideBar": true,
   "skip_h1_title": false,
   "title_cell": "Table of Contents",
   "title_sidebar": "Contents",
   "toc_cell": false,
   "toc_position": {},
   "toc_section_display": true,
   "toc_window_display": false
  }
 },
 "nbformat": 4,
 "nbformat_minor": 4
}
